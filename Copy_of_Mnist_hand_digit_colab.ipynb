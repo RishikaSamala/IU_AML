{
  "cells": [
    {
      "cell_type": "markdown",
      "metadata": {
        "id": "view-in-github",
        "colab_type": "text"
      },
      "source": [
        "<a href=\"https://colab.research.google.com/github/RishikaSamala/IU_AML/blob/main/Copy_of_Mnist_hand_digit_colab.ipynb\" target=\"_parent\"><img src=\"https://colab.research.google.com/assets/colab-badge.svg\" alt=\"Open In Colab\"/></a>"
      ]
    },
    {
      "cell_type": "code",
      "execution_count": null,
      "metadata": {
        "id": "AbXAApHHhiQZ"
      },
      "outputs": [],
      "source": [
        "# importing required libraries new\n",
        "\n",
        "import numpy as np\n",
        "import torch\n",
        "import torchvision\n",
        "import torch.nn.functional as F\n",
        "import matplotlib.pyplot as plt\n",
        "from time import time\n",
        "from torch.autograd import Variable\n",
        "from torchvision import datasets, transforms\n",
        "from torch import nn, optim\n",
        "import torch.utils.data as data"
      ]
    },
    {
      "cell_type": "code",
      "execution_count": null,
      "metadata": {
        "colab": {
          "base_uri": "https://localhost:8080/"
        },
        "id": "vE5ABbcXhiQc",
        "outputId": "18856d38-430f-4acb-ea76-54236f700f8a"
      },
      "outputs": [
        {
          "output_type": "execute_result",
          "data": {
            "text/plain": [
              "True"
            ]
          },
          "metadata": {},
          "execution_count": 3
        }
      ],
      "source": [
        "torch.cuda.is_available()"
      ]
    },
    {
      "cell_type": "code",
      "execution_count": null,
      "metadata": {
        "colab": {
          "base_uri": "https://localhost:8080/",
          "height": 422,
          "referenced_widgets": [
            "b54c60132deb40d6b5bf31d6c757cb79",
            "0524164c045a4e85a1a83828775e8cca",
            "5f352223305b4258aaa526d774c6b4dc",
            "a633f4d88f014eacac2bcd05a4668b99",
            "94fd67be82f940b3953adb292c7683c6",
            "8beb5c00a27c4b64a58492684053169e",
            "c6eb8f11a9c642e3bf6ace7015bcec17",
            "3d762b1ff5bc4633be4b963a5a7d3506",
            "1a289fc495e34f3f950784b54c23ba0e",
            "d135cf3fb3464f3eb05ab6cd048c6daf",
            "b59bd693d60c40628ac8d82a3a71cc1b",
            "2d0de407f3364aeea1b94ba99c850851",
            "acef6da17dee461e9706ebbfd991f834",
            "966902d7a2204ff4a3428d1a0087e6b7",
            "c77a11c7dd264a7ca63b43d1cf2533e9",
            "5ec2976bd6d84c338fb4ea1fe565a330",
            "544cf3aad8c2430b80d43e419c51cbe0",
            "71ef1fe952444963806a6134c46b81b1",
            "3e826c1590f24145829fead7a07814f1",
            "729115fc638a4bd5a39df51dd2dac355",
            "23ba52e23c174eb58ff6df95ada32a99",
            "fd8284e308dc4b7f838e109e6ead28b6",
            "58f56b26f4774aa4b8e62140a8c9e59c",
            "b8827a88133e40fbacb9215e0ac5e718",
            "cd8291e966a04ed49e72c2c7b5ebbb8b",
            "a7fa6af682b144a587f81a849480bb0c",
            "545ad587051542b0803df19d8d4d719f",
            "1d070c39f5d04b38be3153691735025f",
            "6c43670ab5df4b75b8f2ed5d1413ff7c",
            "6e7d97e6d8db49718e0dc1631a28513d",
            "3215cb5e3b144ba08a6098013be3bdb7",
            "ddf4de33db0b422480966774dca37af1",
            "d27f45e963ee458c98a9deff74e47f38",
            "1e9e41f330b045638226324a10d55aee",
            "2b38404744884d2eb787645d052f5c3a",
            "bcb2d6271bff4654a6a962419cb49d6a",
            "a63e62e3424b49d4b3577191f15fe2dd",
            "2537ebfc9ac441d194f6463b832650d8",
            "aa9252e4cbc7491684be75859ea5957f",
            "dea93548b75e437c99fcc165ced9bec8",
            "ca3debd93f234e0fb9d88b1d04e23ac4",
            "402d4d8406be47afa08424fe56666623",
            "26913dccb3b6494c9b63237bd8fefdc9",
            "9b5d751783204f89a67ef59f50e41877"
          ]
        },
        "id": "69NejVYphiQd",
        "outputId": "5c2551d2-aba4-4a8e-8b14-9330cc4edc5c"
      },
      "outputs": [
        {
          "output_type": "stream",
          "name": "stdout",
          "text": [
            "Downloading http://yann.lecun.com/exdb/mnist/train-images-idx3-ubyte.gz\n",
            "Downloading http://yann.lecun.com/exdb/mnist/train-images-idx3-ubyte.gz to sample_data//MNIST/MNIST/raw/train-images-idx3-ubyte.gz\n"
          ]
        },
        {
          "output_type": "display_data",
          "data": {
            "text/plain": [
              "  0%|          | 0/9912422 [00:00<?, ?it/s]"
            ],
            "application/vnd.jupyter.widget-view+json": {
              "version_major": 2,
              "version_minor": 0,
              "model_id": "b54c60132deb40d6b5bf31d6c757cb79"
            }
          },
          "metadata": {}
        },
        {
          "output_type": "stream",
          "name": "stdout",
          "text": [
            "Extracting sample_data//MNIST/MNIST/raw/train-images-idx3-ubyte.gz to sample_data//MNIST/MNIST/raw\n",
            "\n",
            "Downloading http://yann.lecun.com/exdb/mnist/train-labels-idx1-ubyte.gz\n",
            "Downloading http://yann.lecun.com/exdb/mnist/train-labels-idx1-ubyte.gz to sample_data//MNIST/MNIST/raw/train-labels-idx1-ubyte.gz\n"
          ]
        },
        {
          "output_type": "display_data",
          "data": {
            "text/plain": [
              "  0%|          | 0/28881 [00:00<?, ?it/s]"
            ],
            "application/vnd.jupyter.widget-view+json": {
              "version_major": 2,
              "version_minor": 0,
              "model_id": "2d0de407f3364aeea1b94ba99c850851"
            }
          },
          "metadata": {}
        },
        {
          "output_type": "stream",
          "name": "stdout",
          "text": [
            "Extracting sample_data//MNIST/MNIST/raw/train-labels-idx1-ubyte.gz to sample_data//MNIST/MNIST/raw\n",
            "\n",
            "Downloading http://yann.lecun.com/exdb/mnist/t10k-images-idx3-ubyte.gz\n",
            "Downloading http://yann.lecun.com/exdb/mnist/t10k-images-idx3-ubyte.gz to sample_data//MNIST/MNIST/raw/t10k-images-idx3-ubyte.gz\n"
          ]
        },
        {
          "output_type": "display_data",
          "data": {
            "text/plain": [
              "  0%|          | 0/1648877 [00:00<?, ?it/s]"
            ],
            "application/vnd.jupyter.widget-view+json": {
              "version_major": 2,
              "version_minor": 0,
              "model_id": "58f56b26f4774aa4b8e62140a8c9e59c"
            }
          },
          "metadata": {}
        },
        {
          "output_type": "stream",
          "name": "stdout",
          "text": [
            "Extracting sample_data//MNIST/MNIST/raw/t10k-images-idx3-ubyte.gz to sample_data//MNIST/MNIST/raw\n",
            "\n",
            "Downloading http://yann.lecun.com/exdb/mnist/t10k-labels-idx1-ubyte.gz\n",
            "Downloading http://yann.lecun.com/exdb/mnist/t10k-labels-idx1-ubyte.gz to sample_data//MNIST/MNIST/raw/t10k-labels-idx1-ubyte.gz\n"
          ]
        },
        {
          "output_type": "display_data",
          "data": {
            "text/plain": [
              "  0%|          | 0/4542 [00:00<?, ?it/s]"
            ],
            "application/vnd.jupyter.widget-view+json": {
              "version_major": 2,
              "version_minor": 0,
              "model_id": "1e9e41f330b045638226324a10d55aee"
            }
          },
          "metadata": {}
        },
        {
          "output_type": "stream",
          "name": "stdout",
          "text": [
            "Extracting sample_data//MNIST/MNIST/raw/t10k-labels-idx1-ubyte.gz to sample_data//MNIST/MNIST/raw\n",
            "\n"
          ]
        }
      ],
      "source": [
        "# load MNIST dataset\n",
        "\n",
        "train_dataset = datasets.MNIST('sample_data//MNIST' ,train=True,download=True,transform=transforms.ToTensor())\n",
        "test_dataset = datasets.MNIST('sample_data//MNIST' ,train=False,download=True,transform=transforms.ToTensor())"
      ]
    },
    {
      "cell_type": "code",
      "execution_count": null,
      "metadata": {
        "id": "1mDkxUUThiQd"
      },
      "outputs": [],
      "source": [
        "# split\n",
        "\n",
        "train_split,valid_split = data.random_split(train_dataset,[54000,6000])"
      ]
    },
    {
      "cell_type": "code",
      "execution_count": null,
      "metadata": {
        "id": "HCr2xwT-hiQe"
      },
      "outputs": [],
      "source": [
        "\n",
        "# dataloaders \n",
        "\n",
        "train_loader = torch.utils.data.DataLoader(train_split, batch_size=64, shuffle=True)\n",
        "val_loader = torch.utils.data.DataLoader(valid_split, batch_size=64, shuffle=True)\n",
        "#test_loader = torch.utils.data.DataLoader(test_dataset, batch_size=64, shuffle=True)"
      ]
    },
    {
      "cell_type": "code",
      "execution_count": null,
      "metadata": {
        "colab": {
          "base_uri": "https://localhost:8080/",
          "height": 384
        },
        "id": "EPu8a_-3hiQe",
        "outputId": "9e44aa80-d053-48c5-f2b3-6a4f1b2b2672"
      },
      "outputs": [
        {
          "output_type": "display_data",
          "data": {
            "text/plain": [
              "<Figure size 720x576 with 10 Axes>"
            ],
            "image/png": "[encoded data removed]"
          },
          "metadata": {
            "needs_background": "light"
          }
        }
      ],
      "source": [
        "# plot few images in train data\n",
        "\n",
        "train_iter = iter(train_loader)\n",
        "(images,labels) = train_iter.next()\n",
        "(images,labels) = train_iter.next()\n",
        "\n",
        "plt.figure(figsize=(10,8))\n",
        "for i in range(10):\n",
        "    plt.subplot(2,5,i+1)\n",
        "    plt.imshow(images[i][0])\n",
        "plt.show()"
      ]
    },
    {
      "cell_type": "code",
      "execution_count": null,
      "metadata": {
        "id": "4LLe3M3AhiQf"
      },
      "outputs": [],
      "source": [
        "# Build CNN Model\n",
        "\n",
        "class CNN(nn.Module):\n",
        "    def __init__(self):\n",
        "        super(CNN, self).__init__()\n",
        "        self.conv1 = nn.Conv2d(1, 12, kernel_size=8)\n",
        "        self.conv1.weight = self.weight_init_xavier_cnn(12,1,8)\n",
        "        self.conv2 = nn.Conv2d(12, 12, kernel_size=4)\n",
        "        self.conv2.weight = self.weight_init_xavier_cnn(12,12,4)\n",
        "        self.fc1 = nn.Linear(18*18*12, 30)\n",
        "        self.fc1.weight = self.weight_init_xavier_fc(30,3888)\n",
        "        self.fc2 = nn.Linear(30, 10)\n",
        "        self.fc2.weight = self.weight_init_xavier_fc(10,30)\n",
        "\n",
        "    def forward(self, x):\n",
        "        x = F.relu(self.conv1(x))\n",
        "        x = F.relu(self.conv2(x))\n",
        "        x = x.view(x.size()[0],-1)\n",
        "        x = F.relu(self.fc1(x))\n",
        "        x = F.relu(self.fc2(x))\n",
        "        return x\n",
        "    \n",
        "    def weight_init_xavier_cnn(self,feature_maps_num,input_feature_maps,kernel_size): \n",
        "        weight = nn.init.xavier_uniform_(torch.randn(feature_maps_num,input_feature_maps,kernel_size,kernel_size), gain=1.0)\n",
        "        return nn.parameter.Parameter(weight)\n",
        "\n",
        "    def weight_init_xavier_fc(self,out_nodes,inp_nodes):\n",
        "        weight = nn.init.xavier_uniform_(torch.randn(out_nodes,inp_nodes), gain=1.0)\n",
        "        return nn.parameter.Parameter(weight)\n",
        " \n"
      ]
    },
    {
      "cell_type": "code",
      "execution_count": null,
      "metadata": {
        "colab": {
          "base_uri": "https://localhost:8080/"
        },
        "id": "WUidjOeHhiQg",
        "outputId": "b36a99cf-01fa-4306-db3f-455fbf482fa9"
      },
      "outputs": [
        {
          "output_type": "stream",
          "name": "stdout",
          "text": [
            "[0.05]\n",
            "Epoch : 0 =>>  train_loss = 0.158, val_loss = 16.334\n",
            "Epoch : 1 =>>  train_loss = 0.096, val_loss = 22.771\n",
            "Epoch : 2 =>>  train_loss = 0.020, val_loss = 14.308\n",
            "Epoch : 3 =>>  train_loss = 0.004, val_loss = 15.369\n",
            "Epoch : 4 =>>  train_loss = 0.003, val_loss = 22.758\n",
            "Epoch : 5 =>>  train_loss = 0.029, val_loss = 22.618\n",
            "Epoch : 6 =>>  train_loss = 0.033, val_loss = 21.259\n",
            "Epoch : 7 =>>  train_loss = 0.001, val_loss = 22.043\n",
            "Epoch : 8 =>>  train_loss = 0.051, val_loss = 41.290\n",
            "Epoch : 9 =>>  train_loss = 0.003, val_loss = 36.390\n",
            "[0.045000000000000005]\n",
            "Epoch : 10 =>>  train_loss = 0.036, val_loss = 33.133\n",
            "Epoch : 11 =>>  train_loss = 0.044, val_loss = 28.443\n",
            "Epoch : 12 =>>  train_loss = 0.017, val_loss = 37.497\n",
            "Epoch : 13 =>>  train_loss = 0.000, val_loss = 39.545\n",
            "Epoch : 14 =>>  train_loss = 0.000, val_loss = 28.291\n",
            "Epoch : 15 =>>  train_loss = 0.000, val_loss = 41.176\n",
            "Epoch : 16 =>>  train_loss = 0.149, val_loss = 34.912\n",
            "Epoch : 17 =>>  train_loss = 0.000, val_loss = 56.288\n",
            "Epoch : 18 =>>  train_loss = 0.006, val_loss = 37.052\n",
            "Epoch : 19 =>>  train_loss = 0.012, val_loss = 51.917\n",
            "[0.045000000000000005]\n",
            "Epoch : 20 =>>  train_loss = 0.000, val_loss = 38.681\n",
            "Epoch : 21 =>>  train_loss = 0.000, val_loss = 57.509\n",
            "Epoch : 22 =>>  train_loss = 0.000, val_loss = 48.193\n",
            "Epoch : 23 =>>  train_loss = 0.000, val_loss = 51.003\n",
            "Epoch : 24 =>>  train_loss = 0.050, val_loss = 47.735\n",
            "Epoch : 25 =>>  train_loss = 0.029, val_loss = 47.973\n",
            "Epoch : 26 =>>  train_loss = 0.000, val_loss = 62.281\n",
            "Epoch : 27 =>>  train_loss = 0.001, val_loss = 77.701\n",
            "Epoch : 28 =>>  train_loss = 0.003, val_loss = 70.745\n",
            "Epoch : 29 =>>  train_loss = 0.000, val_loss = 62.224\n",
            "[0.04050000000000001]\n",
            "Epoch : 30 =>>  train_loss = 0.027, val_loss = 71.996\n",
            "Epoch : 31 =>>  train_loss = 0.002, val_loss = 80.088\n",
            "Epoch : 32 =>>  train_loss = 0.000, val_loss = 77.456\n",
            "Epoch : 33 =>>  train_loss = 0.000, val_loss = 118.660\n",
            "Epoch : 34 =>>  train_loss = 0.071, val_loss = 98.326\n",
            "Epoch : 35 =>>  train_loss = 0.000, val_loss = 97.519\n",
            "Epoch : 36 =>>  train_loss = 0.383, val_loss = 90.096\n",
            "Epoch : 37 =>>  train_loss = 0.000, val_loss = 119.324\n",
            "Epoch : 38 =>>  train_loss = 0.000, val_loss = 111.077\n",
            "Epoch : 39 =>>  train_loss = 0.047, val_loss = 177.574\n",
            "[0.04050000000000001]\n",
            "Epoch : 40 =>>  train_loss = 0.000, val_loss = 122.702\n",
            "Epoch : 41 =>>  train_loss = 0.001, val_loss = 172.172\n",
            "Epoch : 42 =>>  train_loss = 0.053, val_loss = 224.271\n",
            "Epoch : 43 =>>  train_loss = 0.000, val_loss = 112.920\n",
            "Epoch : 44 =>>  train_loss = 0.000, val_loss = 236.988\n",
            "Epoch : 45 =>>  train_loss = 0.300, val_loss = 168.768\n",
            "Epoch : 46 =>>  train_loss = 0.000, val_loss = 149.921\n",
            "Epoch : 47 =>>  train_loss = 0.095, val_loss = 145.988\n",
            "Epoch : 48 =>>  train_loss = 0.030, val_loss = 178.504\n",
            "Epoch : 49 =>>  train_loss = 0.000, val_loss = 230.938\n"
          ]
        }
      ],
      "source": [
        "# training process\n",
        "\n",
        "cnn = CNN()\n",
        "epochs = 50\n",
        "loss_func = nn.CrossEntropyLoss()\n",
        "optimizer = torch.optim.SGD(cnn.parameters(),lr = 0.05,momentum = 0.9)\n",
        "scheduler = torch.optim.lr_scheduler.StepLR(optimizer,step_size=2,gamma = 0.9)\n",
        "val_losses = []\n",
        "train_losses = []\n",
        "\n",
        "for epoch in range(epochs):\n",
        "    for i,(images,labels) in enumerate(train_loader):\n",
        "        \n",
        "        # reshape images \n",
        "        #images = images.reshape(-1,1,28,28)\n",
        "        \n",
        "        # calculate oputput -> forward pass\n",
        "        outputs = cnn(images.float())\n",
        "        \n",
        "        # calculate loss for this batch\n",
        "        loss = loss_func(outputs,labels)\n",
        "        \n",
        "        # perform backward popagation\n",
        "        optimizer.zero_grad()    \n",
        "        loss.backward()\n",
        "        \n",
        "        # update weights using gradients\n",
        "        optimizer.step()\n",
        "        \n",
        "    # change learning rate\n",
        "    if epoch % 10 == 0:\n",
        "        scheduler.step()\n",
        "        print(scheduler.get_last_lr())\n",
        "    \n",
        "    #--------calculate validation loss------#\n",
        "    \n",
        "    val_images = train_dataset.data[val_loader.dataset.indices].reshape(-1,1,28,28)\n",
        "    val_labels = train_dataset.targets[val_loader.dataset.indices]\n",
        "    outputs_val = cnn(val_images.float())\n",
        "    val_loss = loss_func(outputs_val,val_labels)\n",
        "    val_losses.append(val_loss.item())\n",
        "    \n",
        "    #-------------------------------------#\n",
        "    \n",
        "    train_losses.append(loss.item())\n",
        "    \n",
        "    print('Epoch : {} =>>  train_loss = {:.3f}, val_loss = {:.3f}'.format(epoch,loss.item(),val_loss.item()))\n",
        "    \n",
        "    \n",
        "    "
      ]
    },
    {
      "cell_type": "code",
      "execution_count": null,
      "metadata": {
        "colab": {
          "base_uri": "https://localhost:8080/",
          "height": 265
        },
        "id": "xljWNimYhiQh",
        "outputId": "fac66ba7-6828-4777-81c9-68431d0e5ed3"
      },
      "outputs": [
        {
          "output_type": "display_data",
          "data": {
            "text/plain": [
              "<Figure size 432x288 with 1 Axes>"
            ],
            "image/png": "[encoded data removed]"
          },
          "metadata": {
            "needs_background": "light"
          }
        }
      ],
      "source": [
        "import matplotlib.pyplot as plt\n",
        "\n",
        "plt.plot(range(50),val_losses)\n",
        "\n",
        "plt.show()"
      ]
    },
    {
      "cell_type": "code",
      "source": [
        "\n",
        "plt.plot(range(50),train_losses)\n",
        "plt.show()"
      ],
      "metadata": {
        "colab": {
          "base_uri": "https://localhost:8080/",
          "height": 268
        },
        "id": "S9HIX31yqDZj",
        "outputId": "c08fed32-d0dc-44d1-9511-51a119cebcf5"
      },
      "execution_count": null,
      "outputs": [
        {
          "output_type": "display_data",
          "data": {
            "text/plain": [
              "<Figure size 432x288 with 1 Axes>"
            ],
            "image/png": "[encoded data removed]"
          },
          "metadata": {
            "needs_background": "light"
          }
        }
      ]
    },
    {
      "cell_type": "code",
      "execution_count": null,
      "metadata": {
        "id": "RZ0WdLGehiQh"
      },
      "outputs": [],
      "source": [
        "# Test data evaluation\n",
        "\n",
        "test_images = test_dataset.data.reshape(-1,1,28,28).float()\n",
        "test_labels = test_dataset.targets\n",
        "test_outputs = cnn(test_images)\n",
        "test_pred = torch.argmax(test_outputs,dim=1)\n",
        "loss = loss_func(test_outputs,test_labels)\n",
        "\n",
        "#outputs = model(test_dataset.data.reshape(-1,1,28,28).float())"
      ]
    },
    {
      "cell_type": "code",
      "execution_count": null,
      "metadata": {
        "colab": {
          "base_uri": "https://localhost:8080/"
        },
        "id": "83W19i3WhiQi",
        "outputId": "fc4e10f8-82b5-411d-d785-7299f6722385"
      },
      "outputs": [
        {
          "output_type": "execute_result",
          "data": {
            "text/plain": [
              "(tensor([    0.0000, 13509.1699,  6013.4263,     0.0000,     0.0000,     0.0000,\n",
              "             0.0000,  1389.5887,     0.0000,     0.0000],\n",
              "        grad_fn=<SelectBackward0>), tensor(1), tensor(1))"
            ]
          },
          "metadata": {},
          "execution_count": 20
        }
      ],
      "source": [
        "test_outputs[2],test_pred[2],test_labels[2]"
      ]
    },
    {
      "cell_type": "code",
      "execution_count": null,
      "metadata": {
        "id": "gxA_sB8vhiQi"
      },
      "outputs": [],
      "source": [
        "y_pred=torch.argmax(outputs,dim=1)"
      ]
    },
    {
      "cell_type": "code",
      "execution_count": null,
      "metadata": {
        "colab": {
          "base_uri": "https://localhost:8080/"
        },
        "id": "YpTzzndkhiQj",
        "outputId": "c80b3d06-eefe-48b0-cedd-31ff2883e555"
      },
      "outputs": [
        {
          "output_type": "execute_result",
          "data": {
            "text/plain": [
              "0.936"
            ]
          },
          "metadata": {},
          "execution_count": 21
        }
      ],
      "source": [
        "from sklearn.metrics import accuracy_score\n",
        "accuracy_score(test_labels ,test_pred)"
      ]
    },
    {
      "cell_type": "code",
      "execution_count": null,
      "metadata": {
        "colab": {
          "base_uri": "https://localhost:8080/"
        },
        "id": "cwtzUDQjhiQj",
        "outputId": "a54d40c6-5cfe-4414-8993-fd76a14f85fa"
      },
      "outputs": [
        {
          "output_type": "stream",
          "name": "stdout",
          "text": [
            "              precision    recall  f1-score   support\n",
            "\n",
            "           0       0.95      0.93      0.94       980\n",
            "           1       0.98      0.95      0.96      1135\n",
            "           2       0.95      0.94      0.94      1032\n",
            "           3       0.96      0.96      0.96      1010\n",
            "           4       0.96      0.93      0.94       982\n",
            "           5       0.94      0.89      0.91       892\n",
            "           6       0.86      0.98      0.92       958\n",
            "           7       0.93      0.95      0.94      1028\n",
            "           8       0.96      0.91      0.93       974\n",
            "           9       0.90      0.91      0.91      1009\n",
            "\n",
            "    accuracy                           0.94     10000\n",
            "   macro avg       0.94      0.94      0.94     10000\n",
            "weighted avg       0.94      0.94      0.94     10000\n",
            "\n"
          ]
        }
      ],
      "source": [
        "from sklearn.metrics import classification_report\n",
        "print(classification_report(test_labels,test_pred))"
      ]
    },
    {
      "cell_type": "code",
      "execution_count": null,
      "metadata": {
        "colab": {
          "base_uri": "https://localhost:8080/"
        },
        "id": "WaUjDO0JhiQj",
        "outputId": "af6cf852-b3b1-4782-f0d9-23fa95b8bcac"
      },
      "outputs": [
        {
          "output_type": "execute_result",
          "data": {
            "text/plain": [
              "array([[ 908,    0,    1,    0,    2,    7,   42,   15,    1,    4],\n",
              "       [   2, 1080,   15,    1,    1,    0,   25,    1,   10,    0],\n",
              "       [  16,    1,  965,   13,    4,    3,   10,    9,    8,    3],\n",
              "       [   0,    3,    3,  973,    2,    3,    1,    9,    3,   13],\n",
              "       [   0,    5,    2,    0,  909,    6,   13,    4,    3,   40],\n",
              "       [   2,    3,    0,    7,    2,  796,   51,    9,    4,   18],\n",
              "       [   3,    2,    1,    1,    2,    9,  940,    0,    0,    0],\n",
              "       [   4,    2,   20,    5,    6,    1,    0,  977,    1,   12],\n",
              "       [  15,    6,   14,   16,    4,   11,    8,    3,  889,    8],\n",
              "       [   6,    4,    0,    2,   19,   15,    3,   27,   10,  923]])"
            ]
          },
          "metadata": {},
          "execution_count": 25
        }
      ],
      "source": [
        "from sklearn.metrics import confusion_matrix\n",
        "confusion_matrix(test_labels,test_pred)"
      ]
    },
    {
      "cell_type": "code",
      "execution_count": null,
      "metadata": {
        "id": "ixl9nSDAhiQk",
        "outputId": "16ec05f2-987f-4c9b-c059-d20e7d56afef"
      },
      "outputs": [
        {
          "data": {
            "text/plain": [
              "((torch.Size([54000, 28, 28]), torch.Size([54000])),\n",
              " (torch.Size([6000, 28, 28]), torch.Size([6000])))"
            ]
          },
          "execution_count": 87,
          "metadata": {},
          "output_type": "execute_result"
        }
      ],
      "source": [
        ""
      ]
    },
    {
      "cell_type": "code",
      "execution_count": null,
      "metadata": {
        "id": "70WjeyA7hiQk"
      },
      "outputs": [],
      "source": [
        ""
      ]
    },
    {
      "cell_type": "code",
      "execution_count": null,
      "metadata": {
        "id": "lMAqksYzhiQk"
      },
      "outputs": [],
      "source": [
        ""
      ]
    },
    {
      "cell_type": "code",
      "execution_count": null,
      "metadata": {
        "id": "Bp_pLkzrhiQk",
        "outputId": "4b44b5d8-a54e-489a-ed5e-556246a5f83c"
      },
      "outputs": [
        {
          "data": {
            "text/plain": [
              "torch.Size([54000])"
            ]
          },
          "execution_count": 60,
          "metadata": {},
          "output_type": "execute_result"
        }
      ],
      "source": [
        ""
      ]
    },
    {
      "cell_type": "code",
      "execution_count": null,
      "metadata": {
        "id": "qC6DV0gRhiQl"
      },
      "outputs": [],
      "source": [
        ""
      ]
    },
    {
      "cell_type": "code",
      "execution_count": null,
      "metadata": {
        "id": "urW4HjoYhiQl"
      },
      "outputs": [],
      "source": [
        "\n"
      ]
    },
    {
      "cell_type": "code",
      "execution_count": null,
      "metadata": {
        "id": "vmXaj6ffhiQn",
        "outputId": "3a36eeff-38b9-4d95-d452-58c5367b1a46"
      },
      "outputs": [
        {
          "name": "stdout",
          "output_type": "stream",
          "text": [
            "[0.05]\n",
            "[0.045000000000000005]\n",
            "[0.045000000000000005]\n",
            "[0.04050000000000001]\n",
            "[0.04050000000000001]\n",
            "[0.03645000000000001]\n",
            "[0.03645000000000001]\n",
            "[0.03280500000000001]\n",
            "[0.03280500000000001]\n",
            "[0.02952450000000001]\n",
            "[0.02952450000000001]\n",
            "[0.02657205000000001]\n",
            "[0.02657205000000001]\n",
            "[0.02391484500000001]\n",
            "[0.02391484500000001]\n",
            "[0.021523360500000012]\n",
            "[0.021523360500000012]\n",
            "[0.01937102445000001]\n",
            "[0.01937102445000001]\n",
            "[0.01743392200500001]\n",
            "[0.01743392200500001]\n",
            "[0.015690529804500006]\n",
            "[0.015690529804500006]\n",
            "[0.014121476824050006]\n",
            "[0.014121476824050006]\n",
            "[0.012709329141645007]\n",
            "[0.012709329141645007]\n",
            "[0.011438396227480507]\n",
            "[0.011438396227480507]\n",
            "[0.010294556604732457]\n",
            "[0.010294556604732457]\n",
            "[0.00926510094425921]\n",
            "[0.00926510094425921]\n",
            "[0.00833859084983329]\n",
            "[0.00833859084983329]\n",
            "[0.007504731764849962]\n",
            "[0.007504731764849962]\n",
            "[0.006754258588364966]\n",
            "[0.006754258588364966]\n",
            "[0.00607883272952847]\n",
            "[0.00607883272952847]\n",
            "[0.005470949456575623]\n",
            "[0.005470949456575623]\n",
            "[0.0049238545109180605]\n",
            "[0.0049238545109180605]\n",
            "[0.004431469059826255]\n",
            "[0.004431469059826255]\n",
            "[0.0039883221538436296]\n",
            "[0.0039883221538436296]\n",
            "[0.003589489938459267]\n",
            "[0.003589489938459267]\n",
            "[0.0032305409446133403]\n",
            "[0.0032305409446133403]\n",
            "[0.0029074868501520064]\n",
            "[0.0029074868501520064]\n",
            "[0.0026167381651368057]\n",
            "[0.0026167381651368057]\n",
            "[0.002355064348623125]\n",
            "[0.002355064348623125]\n",
            "[0.002119557913760813]\n",
            "[0.002119557913760813]\n",
            "[0.0019076021223847317]\n",
            "[0.0019076021223847317]\n",
            "[0.0017168419101462585]\n",
            "[0.0017168419101462585]\n",
            "[0.0015451577191316326]\n",
            "[0.0015451577191316326]\n",
            "[0.0013906419472184694]\n",
            "[0.0013906419472184694]\n",
            "[0.0012515777524966226]\n",
            "[0.0012515777524966226]\n",
            "[0.0011264199772469603]\n",
            "[0.0011264199772469603]\n",
            "[0.0010137779795222643]\n",
            "[0.0010137779795222643]\n",
            "[0.0009124001815700379]\n",
            "[0.0009124001815700379]\n",
            "[0.0008211601634130341]\n",
            "[0.0008211601634130341]\n",
            "[0.0007390441470717307]\n",
            "[0.0007390441470717307]\n",
            "[0.0006651397323645576]\n",
            "[0.0006651397323645576]\n",
            "[0.0005986257591281018]\n",
            "[0.0005986257591281018]\n",
            "[0.0005387631832152916]\n",
            "[0.0005387631832152916]\n",
            "[0.0004848868648937625]\n",
            "[0.0004848868648937625]\n",
            "[0.0004363981784043862]\n",
            "[0.0004363981784043862]\n",
            "[0.0003927583605639476]\n",
            "[0.0003927583605639476]\n",
            "[0.00035348252450755286]\n",
            "[0.00035348252450755286]\n",
            "[0.0003181342720567976]\n",
            "[0.0003181342720567976]\n",
            "[0.00028632084485111784]\n",
            "[0.00028632084485111784]\n",
            "[0.00025768876036600606]\n"
          ]
        },
        {
          "name": "stderr",
          "output_type": "stream",
          "text": [
            "C:\\Users\\siris\\AppData\\Roaming\\Python\\Python37\\site-packages\\torch\\optim\\lr_scheduler.py:136: UserWarning: Detected call of `lr_scheduler.step()` before `optimizer.step()`. In PyTorch 1.1.0 and later, you should call them in the opposite order: `optimizer.step()` before `lr_scheduler.step()`.  Failure to do this will result in PyTorch skipping the first value of the learning rate schedule. See more details at https://pytorch.org/docs/stable/optim.html#how-to-adjust-learning-rate\n",
            "  \"https://pytorch.org/docs/stable/optim.html#how-to-adjust-learning-rate\", UserWarning)\n"
          ]
        }
      ],
      "source": [
        "op = optim.Adam(cnn.parameters(),lr=0.05)\n",
        "scheduler = torch.optim.lr_scheduler.StepLR(op,step_size=2,gamma = 0.9)\n",
        "\n",
        "for i in range(100):\n",
        "    scheduler.step()\n",
        "    print(scheduler.get_last_lr())"
      ]
    },
    {
      "cell_type": "code",
      "execution_count": null,
      "metadata": {
        "id": "7MMUguJJhiQn"
      },
      "outputs": [],
      "source": [
        ""
      ]
    },
    {
      "cell_type": "code",
      "execution_count": null,
      "metadata": {
        "id": "anMxzamChiQn"
      },
      "outputs": [],
      "source": [
        ""
      ]
    },
    {
      "cell_type": "code",
      "execution_count": null,
      "metadata": {
        "id": "6uZdA6xJhiQn"
      },
      "outputs": [],
      "source": [
        ""
      ]
    },
    {
      "cell_type": "code",
      "execution_count": null,
      "metadata": {
        "id": "Fd8MbGqzhiQn"
      },
      "outputs": [],
      "source": [
        ""
      ]
    },
    {
      "cell_type": "code",
      "execution_count": null,
      "metadata": {
        "id": "lTtSKYs8hiQo"
      },
      "outputs": [],
      "source": [
        ""
      ]
    },
    {
      "cell_type": "code",
      "execution_count": null,
      "metadata": {
        "id": "8uAjkdKLhiQo"
      },
      "outputs": [],
      "source": [
        ""
      ]
    },
    {
      "cell_type": "code",
      "execution_count": null,
      "metadata": {
        "id": "v_H-dJqnhiQo"
      },
      "outputs": [],
      "source": [
        ""
      ]
    },
    {
      "cell_type": "code",
      "execution_count": null,
      "metadata": {
        "id": "RJnmD2FnhiQo"
      },
      "outputs": [],
      "source": [
        ""
      ]
    },
    {
      "cell_type": "code",
      "execution_count": null,
      "metadata": {
        "id": "MNk8vhCohiQo"
      },
      "outputs": [],
      "source": [
        ""
      ]
    },
    {
      "cell_type": "code",
      "execution_count": null,
      "metadata": {
        "id": "qP7tQntShiQo"
      },
      "outputs": [],
      "source": [
        ""
      ]
    },
    {
      "cell_type": "code",
      "execution_count": null,
      "metadata": {
        "id": "jgVqITdchiQo"
      },
      "outputs": [],
      "source": [
        ""
      ]
    }
  ],
  "metadata": {
    "kernelspec": {
      "display_name": "Python 3",
      "language": "python",
      "name": "python3"
    },
    "language_info": {
      "codemirror_mode": {
        "name": "ipython",
        "version": 3
      },
      "file_extension": ".py",
      "mimetype": "text/x-python",
      "name": "python",
      "nbconvert_exporter": "python",
      "pygments_lexer": "ipython3",
      "version": "3.7.3"
    },
    "colab": {
      "name": "Copy of Mnist_hand_digit_colab.ipynb",
      "provenance": [],
      "collapsed_sections": [],
      "include_colab_link": true
    },
    "accelerator": "GPU",
    "widgets": {
      "application/vnd.jupyter.widget-state+json": {
        "b54c60132deb40d6b5bf31d6c757cb79": {
          "model_module": "@jupyter-widgets/controls",
          "model_name": "HBoxModel",
          "model_module_version": "1.5.0",
          "state": {
            "_dom_classes": [],
            "_model_module": "@jupyter-widgets/controls",
            "_model_module_version": "1.5.0",
            "_model_name": "HBoxModel",
            "_view_count": null,
            "_view_module": "@jupyter-widgets/controls",
            "_view_module_version": "1.5.0",
            "_view_name": "HBoxView",
            "box_style": "",
            "children": [
              "IPY_MODEL_0524164c045a4e85a1a83828775e8cca",
              "IPY_MODEL_5f352223305b4258aaa526d774c6b4dc",
              "IPY_MODEL_a633f4d88f014eacac2bcd05a4668b99"
            ],
            "layout": "IPY_MODEL_94fd67be82f940b3953adb292c7683c6"
          }
        },
        "0524164c045a4e85a1a83828775e8cca": {
          "model_module": "@jupyter-widgets/controls",
          "model_name": "HTMLModel",
          "model_module_version": "1.5.0",
          "state": {
            "_dom_classes": [],
            "_model_module": "@jupyter-widgets/controls",
            "_model_module_version": "1.5.0",
            "_model_name": "HTMLModel",
            "_view_count": null,
            "_view_module": "@jupyter-widgets/controls",
            "_view_module_version": "1.5.0",
            "_view_name": "HTMLView",
            "description": "",
            "description_tooltip": null,
            "layout": "IPY_MODEL_8beb5c00a27c4b64a58492684053169e",
            "placeholder": "​",
            "style": "IPY_MODEL_c6eb8f11a9c642e3bf6ace7015bcec17",
            "value": ""
          }
        },
        "5f352223305b4258aaa526d774c6b4dc": {
          "model_module": "@jupyter-widgets/controls",
          "model_name": "FloatProgressModel",
          "model_module_version": "1.5.0",
          "state": {
            "_dom_classes": [],
            "_model_module": "@jupyter-widgets/controls",
            "_model_module_version": "1.5.0",
            "_model_name": "FloatProgressModel",
            "_view_count": null,
            "_view_module": "@jupyter-widgets/controls",
            "_view_module_version": "1.5.0",
            "_view_name": "ProgressView",
            "bar_style": "success",
            "description": "",
            "description_tooltip": null,
            "layout": "IPY_MODEL_3d762b1ff5bc4633be4b963a5a7d3506",
            "max": 9912422,
            "min": 0,
            "orientation": "horizontal",
            "style": "IPY_MODEL_1a289fc495e34f3f950784b54c23ba0e",
            "value": 9912422
          }
        },
        "a633f4d88f014eacac2bcd05a4668b99": {
          "model_module": "@jupyter-widgets/controls",
          "model_name": "HTMLModel",
          "model_module_version": "1.5.0",
          "state": {
            "_dom_classes": [],
            "_model_module": "@jupyter-widgets/controls",
            "_model_module_version": "1.5.0",
            "_model_name": "HTMLModel",
            "_view_count": null,
            "_view_module": "@jupyter-widgets/controls",
            "_view_module_version": "1.5.0",
            "_view_name": "HTMLView",
            "description": "",
            "description_tooltip": null,
            "layout": "IPY_MODEL_d135cf3fb3464f3eb05ab6cd048c6daf",
            "placeholder": "​",
            "style": "IPY_MODEL_b59bd693d60c40628ac8d82a3a71cc1b",
            "value": " 9913344/? [00:00&lt;00:00, 18747759.35it/s]"
          }
        },
        "94fd67be82f940b3953adb292c7683c6": {
          "model_module": "@jupyter-widgets/base",
          "model_name": "LayoutModel",
          "model_module_version": "1.2.0",
          "state": {
            "_model_module": "@jupyter-widgets/base",
            "_model_module_version": "1.2.0",
            "_model_name": "LayoutModel",
            "_view_count": null,
            "_view_module": "@jupyter-widgets/base",
            "_view_module_version": "1.2.0",
            "_view_name": "LayoutView",
            "align_content": null,
            "align_items": null,
            "align_self": null,
            "border": null,
            "bottom": null,
            "display": null,
            "flex": null,
            "flex_flow": null,
            "grid_area": null,
            "grid_auto_columns": null,
            "grid_auto_flow": null,
            "grid_auto_rows": null,
            "grid_column": null,
            "grid_gap": null,
            "grid_row": null,
            "grid_template_areas": null,
            "grid_template_columns": null,
            "grid_template_rows": null,
            "height": null,
            "justify_content": null,
            "justify_items": null,
            "left": null,
            "margin": null,
            "max_height": null,
            "max_width": null,
            "min_height": null,
            "min_width": null,
            "object_fit": null,
            "object_position": null,
            "order": null,
            "overflow": null,
            "overflow_x": null,
            "overflow_y": null,
            "padding": null,
            "right": null,
            "top": null,
            "visibility": null,
            "width": null
          }
        },
        "8beb5c00a27c4b64a58492684053169e": {
          "model_module": "@jupyter-widgets/base",
          "model_name": "LayoutModel",
          "model_module_version": "1.2.0",
          "state": {
            "_model_module": "@jupyter-widgets/base",
            "_model_module_version": "1.2.0",
            "_model_name": "LayoutModel",
            "_view_count": null,
            "_view_module": "@jupyter-widgets/base",
            "_view_module_version": "1.2.0",
            "_view_name": "LayoutView",
            "align_content": null,
            "align_items": null,
            "align_self": null,
            "border": null,
            "bottom": null,
            "display": null,
            "flex": null,
            "flex_flow": null,
            "grid_area": null,
            "grid_auto_columns": null,
            "grid_auto_flow": null,
            "grid_auto_rows": null,
            "grid_column": null,
            "grid_gap": null,
            "grid_row": null,
            "grid_template_areas": null,
            "grid_template_columns": null,
            "grid_template_rows": null,
            "height": null,
            "justify_content": null,
            "justify_items": null,
            "left": null,
            "margin": null,
            "max_height": null,
            "max_width": null,
            "min_height": null,
            "min_width": null,
            "object_fit": null,
            "object_position": null,
            "order": null,
            "overflow": null,
            "overflow_x": null,
            "overflow_y": null,
            "padding": null,
            "right": null,
            "top": null,
            "visibility": null,
            "width": null
          }
        },
        "c6eb8f11a9c642e3bf6ace7015bcec17": {
          "model_module": "@jupyter-widgets/controls",
          "model_name": "DescriptionStyleModel",
          "model_module_version": "1.5.0",
          "state": {
            "_model_module": "@jupyter-widgets/controls",
            "_model_module_version": "1.5.0",
            "_model_name": "DescriptionStyleModel",
            "_view_count": null,
            "_view_module": "@jupyter-widgets/base",
            "_view_module_version": "1.2.0",
            "_view_name": "StyleView",
            "description_width": ""
          }
        },
        "3d762b1ff5bc4633be4b963a5a7d3506": {
          "model_module": "@jupyter-widgets/base",
          "model_name": "LayoutModel",
          "model_module_version": "1.2.0",
          "state": {
            "_model_module": "@jupyter-widgets/base",
            "_model_module_version": "1.2.0",
            "_model_name": "LayoutModel",
            "_view_count": null,
            "_view_module": "@jupyter-widgets/base",
            "_view_module_version": "1.2.0",
            "_view_name": "LayoutView",
            "align_content": null,
            "align_items": null,
            "align_self": null,
            "border": null,
            "bottom": null,
            "display": null,
            "flex": null,
            "flex_flow": null,
            "grid_area": null,
            "grid_auto_columns": null,
            "grid_auto_flow": null,
            "grid_auto_rows": null,
            "grid_column": null,
            "grid_gap": null,
            "grid_row": null,
            "grid_template_areas": null,
            "grid_template_columns": null,
            "grid_template_rows": null,
            "height": null,
            "justify_content": null,
            "justify_items": null,
            "left": null,
            "margin": null,
            "max_height": null,
            "max_width": null,
            "min_height": null,
            "min_width": null,
            "object_fit": null,
            "object_position": null,
            "order": null,
            "overflow": null,
            "overflow_x": null,
            "overflow_y": null,
            "padding": null,
            "right": null,
            "top": null,
            "visibility": null,
            "width": null
          }
        },
        "1a289fc495e34f3f950784b54c23ba0e": {
          "model_module": "@jupyter-widgets/controls",
          "model_name": "ProgressStyleModel",
          "model_module_version": "1.5.0",
          "state": {
            "_model_module": "@jupyter-widgets/controls",
            "_model_module_version": "1.5.0",
            "_model_name": "ProgressStyleModel",
            "_view_count": null,
            "_view_module": "@jupyter-widgets/base",
            "_view_module_version": "1.2.0",
            "_view_name": "StyleView",
            "bar_color": null,
            "description_width": ""
          }
        },
        "d135cf3fb3464f3eb05ab6cd048c6daf": {
          "model_module": "@jupyter-widgets/base",
          "model_name": "LayoutModel",
          "model_module_version": "1.2.0",
          "state": {
            "_model_module": "@jupyter-widgets/base",
            "_model_module_version": "1.2.0",
            "_model_name": "LayoutModel",
            "_view_count": null,
            "_view_module": "@jupyter-widgets/base",
            "_view_module_version": "1.2.0",
            "_view_name": "LayoutView",
            "align_content": null,
            "align_items": null,
            "align_self": null,
            "border": null,
            "bottom": null,
            "display": null,
            "flex": null,
            "flex_flow": null,
            "grid_area": null,
            "grid_auto_columns": null,
            "grid_auto_flow": null,
            "grid_auto_rows": null,
            "grid_column": null,
            "grid_gap": null,
            "grid_row": null,
            "grid_template_areas": null,
            "grid_template_columns": null,
            "grid_template_rows": null,
            "height": null,
            "justify_content": null,
            "justify_items": null,
            "left": null,
            "margin": null,
            "max_height": null,
            "max_width": null,
            "min_height": null,
            "min_width": null,
            "object_fit": null,
            "object_position": null,
            "order": null,
            "overflow": null,
            "overflow_x": null,
            "overflow_y": null,
            "padding": null,
            "right": null,
            "top": null,
            "visibility": null,
            "width": null
          }
        },
        "b59bd693d60c40628ac8d82a3a71cc1b": {
          "model_module": "@jupyter-widgets/controls",
          "model_name": "DescriptionStyleModel",
          "model_module_version": "1.5.0",
          "state": {
            "_model_module": "@jupyter-widgets/controls",
            "_model_module_version": "1.5.0",
            "_model_name": "DescriptionStyleModel",
            "_view_count": null,
            "_view_module": "@jupyter-widgets/base",
            "_view_module_version": "1.2.0",
            "_view_name": "StyleView",
            "description_width": ""
          }
        },
        "2d0de407f3364aeea1b94ba99c850851": {
          "model_module": "@jupyter-widgets/controls",
          "model_name": "HBoxModel",
          "model_module_version": "1.5.0",
          "state": {
            "_dom_classes": [],
            "_model_module": "@jupyter-widgets/controls",
            "_model_module_version": "1.5.0",
            "_model_name": "HBoxModel",
            "_view_count": null,
            "_view_module": "@jupyter-widgets/controls",
            "_view_module_version": "1.5.0",
            "_view_name": "HBoxView",
            "box_style": "",
            "children": [
              "IPY_MODEL_acef6da17dee461e9706ebbfd991f834",
              "IPY_MODEL_966902d7a2204ff4a3428d1a0087e6b7",
              "IPY_MODEL_c77a11c7dd264a7ca63b43d1cf2533e9"
            ],
            "layout": "IPY_MODEL_5ec2976bd6d84c338fb4ea1fe565a330"
          }
        },
        "acef6da17dee461e9706ebbfd991f834": {
          "model_module": "@jupyter-widgets/controls",
          "model_name": "HTMLModel",
          "model_module_version": "1.5.0",
          "state": {
            "_dom_classes": [],
            "_model_module": "@jupyter-widgets/controls",
            "_model_module_version": "1.5.0",
            "_model_name": "HTMLModel",
            "_view_count": null,
            "_view_module": "@jupyter-widgets/controls",
            "_view_module_version": "1.5.0",
            "_view_name": "HTMLView",
            "description": "",
            "description_tooltip": null,
            "layout": "IPY_MODEL_544cf3aad8c2430b80d43e419c51cbe0",
            "placeholder": "​",
            "style": "IPY_MODEL_71ef1fe952444963806a6134c46b81b1",
            "value": ""
          }
        },
        "966902d7a2204ff4a3428d1a0087e6b7": {
          "model_module": "@jupyter-widgets/controls",
          "model_name": "FloatProgressModel",
          "model_module_version": "1.5.0",
          "state": {
            "_dom_classes": [],
            "_model_module": "@jupyter-widgets/controls",
            "_model_module_version": "1.5.0",
            "_model_name": "FloatProgressModel",
            "_view_count": null,
            "_view_module": "@jupyter-widgets/controls",
            "_view_module_version": "1.5.0",
            "_view_name": "ProgressView",
            "bar_style": "success",
            "description": "",
            "description_tooltip": null,
            "layout": "IPY_MODEL_3e826c1590f24145829fead7a07814f1",
            "max": 28881,
            "min": 0,
            "orientation": "horizontal",
            "style": "IPY_MODEL_729115fc638a4bd5a39df51dd2dac355",
            "value": 28881
          }
        },
        "c77a11c7dd264a7ca63b43d1cf2533e9": {
          "model_module": "@jupyter-widgets/controls",
          "model_name": "HTMLModel",
          "model_module_version": "1.5.0",
          "state": {
            "_dom_classes": [],
            "_model_module": "@jupyter-widgets/controls",
            "_model_module_version": "1.5.0",
            "_model_name": "HTMLModel",
            "_view_count": null,
            "_view_module": "@jupyter-widgets/controls",
            "_view_module_version": "1.5.0",
            "_view_name": "HTMLView",
            "description": "",
            "description_tooltip": null,
            "layout": "IPY_MODEL_23ba52e23c174eb58ff6df95ada32a99",
            "placeholder": "​",
            "style": "IPY_MODEL_fd8284e308dc4b7f838e109e6ead28b6",
            "value": " 29696/? [00:00&lt;00:00, 656217.67it/s]"
          }
        },
        "5ec2976bd6d84c338fb4ea1fe565a330": {
          "model_module": "@jupyter-widgets/base",
          "model_name": "LayoutModel",
          "model_module_version": "1.2.0",
          "state": {
            "_model_module": "@jupyter-widgets/base",
            "_model_module_version": "1.2.0",
            "_model_name": "LayoutModel",
            "_view_count": null,
            "_view_module": "@jupyter-widgets/base",
            "_view_module_version": "1.2.0",
            "_view_name": "LayoutView",
            "align_content": null,
            "align_items": null,
            "align_self": null,
            "border": null,
            "bottom": null,
            "display": null,
            "flex": null,
            "flex_flow": null,
            "grid_area": null,
            "grid_auto_columns": null,
            "grid_auto_flow": null,
            "grid_auto_rows": null,
            "grid_column": null,
            "grid_gap": null,
            "grid_row": null,
            "grid_template_areas": null,
            "grid_template_columns": null,
            "grid_template_rows": null,
            "height": null,
            "justify_content": null,
            "justify_items": null,
            "left": null,
            "margin": null,
            "max_height": null,
            "max_width": null,
            "min_height": null,
            "min_width": null,
            "object_fit": null,
            "object_position": null,
            "order": null,
            "overflow": null,
            "overflow_x": null,
            "overflow_y": null,
            "padding": null,
            "right": null,
            "top": null,
            "visibility": null,
            "width": null
          }
        },
        "544cf3aad8c2430b80d43e419c51cbe0": {
          "model_module": "@jupyter-widgets/base",
          "model_name": "LayoutModel",
          "model_module_version": "1.2.0",
          "state": {
            "_model_module": "@jupyter-widgets/base",
            "_model_module_version": "1.2.0",
            "_model_name": "LayoutModel",
            "_view_count": null,
            "_view_module": "@jupyter-widgets/base",
            "_view_module_version": "1.2.0",
            "_view_name": "LayoutView",
            "align_content": null,
            "align_items": null,
            "align_self": null,
            "border": null,
            "bottom": null,
            "display": null,
            "flex": null,
            "flex_flow": null,
            "grid_area": null,
            "grid_auto_columns": null,
            "grid_auto_flow": null,
            "grid_auto_rows": null,
            "grid_column": null,
            "grid_gap": null,
            "grid_row": null,
            "grid_template_areas": null,
            "grid_template_columns": null,
            "grid_template_rows": null,
            "height": null,
            "justify_content": null,
            "justify_items": null,
            "left": null,
            "margin": null,
            "max_height": null,
            "max_width": null,
            "min_height": null,
            "min_width": null,
            "object_fit": null,
            "object_position": null,
            "order": null,
            "overflow": null,
            "overflow_x": null,
            "overflow_y": null,
            "padding": null,
            "right": null,
            "top": null,
            "visibility": null,
            "width": null
          }
        },
        "71ef1fe952444963806a6134c46b81b1": {
          "model_module": "@jupyter-widgets/controls",
          "model_name": "DescriptionStyleModel",
          "model_module_version": "1.5.0",
          "state": {
            "_model_module": "@jupyter-widgets/controls",
            "_model_module_version": "1.5.0",
            "_model_name": "DescriptionStyleModel",
            "_view_count": null,
            "_view_module": "@jupyter-widgets/base",
            "_view_module_version": "1.2.0",
            "_view_name": "StyleView",
            "description_width": ""
          }
        },
        "3e826c1590f24145829fead7a07814f1": {
          "model_module": "@jupyter-widgets/base",
          "model_name": "LayoutModel",
          "model_module_version": "1.2.0",
          "state": {
            "_model_module": "@jupyter-widgets/base",
            "_model_module_version": "1.2.0",
            "_model_name": "LayoutModel",
            "_view_count": null,
            "_view_module": "@jupyter-widgets/base",
            "_view_module_version": "1.2.0",
            "_view_name": "LayoutView",
            "align_content": null,
            "align_items": null,
            "align_self": null,
            "border": null,
            "bottom": null,
            "display": null,
            "flex": null,
            "flex_flow": null,
            "grid_area": null,
            "grid_auto_columns": null,
            "grid_auto_flow": null,
            "grid_auto_rows": null,
            "grid_column": null,
            "grid_gap": null,
            "grid_row": null,
            "grid_template_areas": null,
            "grid_template_columns": null,
            "grid_template_rows": null,
            "height": null,
            "justify_content": null,
            "justify_items": null,
            "left": null,
            "margin": null,
            "max_height": null,
            "max_width": null,
            "min_height": null,
            "min_width": null,
            "object_fit": null,
            "object_position": null,
            "order": null,
            "overflow": null,
            "overflow_x": null,
            "overflow_y": null,
            "padding": null,
            "right": null,
            "top": null,
            "visibility": null,
            "width": null
          }
        },
        "729115fc638a4bd5a39df51dd2dac355": {
          "model_module": "@jupyter-widgets/controls",
          "model_name": "ProgressStyleModel",
          "model_module_version": "1.5.0",
          "state": {
            "_model_module": "@jupyter-widgets/controls",
            "_model_module_version": "1.5.0",
            "_model_name": "ProgressStyleModel",
            "_view_count": null,
            "_view_module": "@jupyter-widgets/base",
            "_view_module_version": "1.2.0",
            "_view_name": "StyleView",
            "bar_color": null,
            "description_width": ""
          }
        },
        "23ba52e23c174eb58ff6df95ada32a99": {
          "model_module": "@jupyter-widgets/base",
          "model_name": "LayoutModel",
          "model_module_version": "1.2.0",
          "state": {
            "_model_module": "@jupyter-widgets/base",
            "_model_module_version": "1.2.0",
            "_model_name": "LayoutModel",
            "_view_count": null,
            "_view_module": "@jupyter-widgets/base",
            "_view_module_version": "1.2.0",
            "_view_name": "LayoutView",
            "align_content": null,
            "align_items": null,
            "align_self": null,
            "border": null,
            "bottom": null,
            "display": null,
            "flex": null,
            "flex_flow": null,
            "grid_area": null,
            "grid_auto_columns": null,
            "grid_auto_flow": null,
            "grid_auto_rows": null,
            "grid_column": null,
            "grid_gap": null,
            "grid_row": null,
            "grid_template_areas": null,
            "grid_template_columns": null,
            "grid_template_rows": null,
            "height": null,
            "justify_content": null,
            "justify_items": null,
            "left": null,
            "margin": null,
            "max_height": null,
            "max_width": null,
            "min_height": null,
            "min_width": null,
            "object_fit": null,
            "object_position": null,
            "order": null,
            "overflow": null,
            "overflow_x": null,
            "overflow_y": null,
            "padding": null,
            "right": null,
            "top": null,
            "visibility": null,
            "width": null
          }
        },
        "fd8284e308dc4b7f838e109e6ead28b6": {
          "model_module": "@jupyter-widgets/controls",
          "model_name": "DescriptionStyleModel",
          "model_module_version": "1.5.0",
          "state": {
            "_model_module": "@jupyter-widgets/controls",
            "_model_module_version": "1.5.0",
            "_model_name": "DescriptionStyleModel",
            "_view_count": null,
            "_view_module": "@jupyter-widgets/base",
            "_view_module_version": "1.2.0",
            "_view_name": "StyleView",
            "description_width": ""
          }
        },
        "58f56b26f4774aa4b8e62140a8c9e59c": {
          "model_module": "@jupyter-widgets/controls",
          "model_name": "HBoxModel",
          "model_module_version": "1.5.0",
          "state": {
            "_dom_classes": [],
            "_model_module": "@jupyter-widgets/controls",
            "_model_module_version": "1.5.0",
            "_model_name": "HBoxModel",
            "_view_count": null,
            "_view_module": "@jupyter-widgets/controls",
            "_view_module_version": "1.5.0",
            "_view_name": "HBoxView",
            "box_style": "",
            "children": [
              "IPY_MODEL_b8827a88133e40fbacb9215e0ac5e718",
              "IPY_MODEL_cd8291e966a04ed49e72c2c7b5ebbb8b",
              "IPY_MODEL_a7fa6af682b144a587f81a849480bb0c"
            ],
            "layout": "IPY_MODEL_545ad587051542b0803df19d8d4d719f"
          }
        },
        "b8827a88133e40fbacb9215e0ac5e718": {
          "model_module": "@jupyter-widgets/controls",
          "model_name": "HTMLModel",
          "model_module_version": "1.5.0",
          "state": {
            "_dom_classes": [],
            "_model_module": "@jupyter-widgets/controls",
            "_model_module_version": "1.5.0",
            "_model_name": "HTMLModel",
            "_view_count": null,
            "_view_module": "@jupyter-widgets/controls",
            "_view_module_version": "1.5.0",
            "_view_name": "HTMLView",
            "description": "",
            "description_tooltip": null,
            "layout": "IPY_MODEL_1d070c39f5d04b38be3153691735025f",
            "placeholder": "​",
            "style": "IPY_MODEL_6c43670ab5df4b75b8f2ed5d1413ff7c",
            "value": ""
          }
        },
        "cd8291e966a04ed49e72c2c7b5ebbb8b": {
          "model_module": "@jupyter-widgets/controls",
          "model_name": "FloatProgressModel",
          "model_module_version": "1.5.0",
          "state": {
            "_dom_classes": [],
            "_model_module": "@jupyter-widgets/controls",
            "_model_module_version": "1.5.0",
            "_model_name": "FloatProgressModel",
            "_view_count": null,
            "_view_module": "@jupyter-widgets/controls",
            "_view_module_version": "1.5.0",
            "_view_name": "ProgressView",
            "bar_style": "success",
            "description": "",
            "description_tooltip": null,
            "layout": "IPY_MODEL_6e7d97e6d8db49718e0dc1631a28513d",
            "max": 1648877,
            "min": 0,
            "orientation": "horizontal",
            "style": "IPY_MODEL_3215cb5e3b144ba08a6098013be3bdb7",
            "value": 1648877
          }
        },
        "a7fa6af682b144a587f81a849480bb0c": {
          "model_module": "@jupyter-widgets/controls",
          "model_name": "HTMLModel",
          "model_module_version": "1.5.0",
          "state": {
            "_dom_classes": [],
            "_model_module": "@jupyter-widgets/controls",
            "_model_module_version": "1.5.0",
            "_model_name": "HTMLModel",
            "_view_count": null,
            "_view_module": "@jupyter-widgets/controls",
            "_view_module_version": "1.5.0",
            "_view_name": "HTMLView",
            "description": "",
            "description_tooltip": null,
            "layout": "IPY_MODEL_ddf4de33db0b422480966774dca37af1",
            "placeholder": "​",
            "style": "IPY_MODEL_d27f45e963ee458c98a9deff74e47f38",
            "value": " 1649664/? [00:00&lt;00:00, 13689750.69it/s]"
          }
        },
        "545ad587051542b0803df19d8d4d719f": {
          "model_module": "@jupyter-widgets/base",
          "model_name": "LayoutModel",
          "model_module_version": "1.2.0",
          "state": {
            "_model_module": "@jupyter-widgets/base",
            "_model_module_version": "1.2.0",
            "_model_name": "LayoutModel",
            "_view_count": null,
            "_view_module": "@jupyter-widgets/base",
            "_view_module_version": "1.2.0",
            "_view_name": "LayoutView",
            "align_content": null,
            "align_items": null,
            "align_self": null,
            "border": null,
            "bottom": null,
            "display": null,
            "flex": null,
            "flex_flow": null,
            "grid_area": null,
            "grid_auto_columns": null,
            "grid_auto_flow": null,
            "grid_auto_rows": null,
            "grid_column": null,
            "grid_gap": null,
            "grid_row": null,
            "grid_template_areas": null,
            "grid_template_columns": null,
            "grid_template_rows": null,
            "height": null,
            "justify_content": null,
            "justify_items": null,
            "left": null,
            "margin": null,
            "max_height": null,
            "max_width": null,
            "min_height": null,
            "min_width": null,
            "object_fit": null,
            "object_position": null,
            "order": null,
            "overflow": null,
            "overflow_x": null,
            "overflow_y": null,
            "padding": null,
            "right": null,
            "top": null,
            "visibility": null,
            "width": null
          }
        },
        "1d070c39f5d04b38be3153691735025f": {
          "model_module": "@jupyter-widgets/base",
          "model_name": "LayoutModel",
          "model_module_version": "1.2.0",
          "state": {
            "_model_module": "@jupyter-widgets/base",
            "_model_module_version": "1.2.0",
            "_model_name": "LayoutModel",
            "_view_count": null,
            "_view_module": "@jupyter-widgets/base",
            "_view_module_version": "1.2.0",
            "_view_name": "LayoutView",
            "align_content": null,
            "align_items": null,
            "align_self": null,
            "border": null,
            "bottom": null,
            "display": null,
            "flex": null,
            "flex_flow": null,
            "grid_area": null,
            "grid_auto_columns": null,
            "grid_auto_flow": null,
            "grid_auto_rows": null,
            "grid_column": null,
            "grid_gap": null,
            "grid_row": null,
            "grid_template_areas": null,
            "grid_template_columns": null,
            "grid_template_rows": null,
            "height": null,
            "justify_content": null,
            "justify_items": null,
            "left": null,
            "margin": null,
            "max_height": null,
            "max_width": null,
            "min_height": null,
            "min_width": null,
            "object_fit": null,
            "object_position": null,
            "order": null,
            "overflow": null,
            "overflow_x": null,
            "overflow_y": null,
            "padding": null,
            "right": null,
            "top": null,
            "visibility": null,
            "width": null
          }
        },
        "6c43670ab5df4b75b8f2ed5d1413ff7c": {
          "model_module": "@jupyter-widgets/controls",
          "model_name": "DescriptionStyleModel",
          "model_module_version": "1.5.0",
          "state": {
            "_model_module": "@jupyter-widgets/controls",
            "_model_module_version": "1.5.0",
            "_model_name": "DescriptionStyleModel",
            "_view_count": null,
            "_view_module": "@jupyter-widgets/base",
            "_view_module_version": "1.2.0",
            "_view_name": "StyleView",
            "description_width": ""
          }
        },
        "6e7d97e6d8db49718e0dc1631a28513d": {
          "model_module": "@jupyter-widgets/base",
          "model_name": "LayoutModel",
          "model_module_version": "1.2.0",
          "state": {
            "_model_module": "@jupyter-widgets/base",
            "_model_module_version": "1.2.0",
            "_model_name": "LayoutModel",
            "_view_count": null,
            "_view_module": "@jupyter-widgets/base",
            "_view_module_version": "1.2.0",
            "_view_name": "LayoutView",
            "align_content": null,
            "align_items": null,
            "align_self": null,
            "border": null,
            "bottom": null,
            "display": null,
            "flex": null,
            "flex_flow": null,
            "grid_area": null,
            "grid_auto_columns": null,
            "grid_auto_flow": null,
            "grid_auto_rows": null,
            "grid_column": null,
            "grid_gap": null,
            "grid_row": null,
            "grid_template_areas": null,
            "grid_template_columns": null,
            "grid_template_rows": null,
            "height": null,
            "justify_content": null,
            "justify_items": null,
            "left": null,
            "margin": null,
            "max_height": null,
            "max_width": null,
            "min_height": null,
            "min_width": null,
            "object_fit": null,
            "object_position": null,
            "order": null,
            "overflow": null,
            "overflow_x": null,
            "overflow_y": null,
            "padding": null,
            "right": null,
            "top": null,
            "visibility": null,
            "width": null
          }
        },
        "3215cb5e3b144ba08a6098013be3bdb7": {
          "model_module": "@jupyter-widgets/controls",
          "model_name": "ProgressStyleModel",
          "model_module_version": "1.5.0",
          "state": {
            "_model_module": "@jupyter-widgets/controls",
            "_model_module_version": "1.5.0",
            "_model_name": "ProgressStyleModel",
            "_view_count": null,
            "_view_module": "@jupyter-widgets/base",
            "_view_module_version": "1.2.0",
            "_view_name": "StyleView",
            "bar_color": null,
            "description_width": ""
          }
        },
        "ddf4de33db0b422480966774dca37af1": {
          "model_module": "@jupyter-widgets/base",
          "model_name": "LayoutModel",
          "model_module_version": "1.2.0",
          "state": {
            "_model_module": "@jupyter-widgets/base",
            "_model_module_version": "1.2.0",
            "_model_name": "LayoutModel",
            "_view_count": null,
            "_view_module": "@jupyter-widgets/base",
            "_view_module_version": "1.2.0",
            "_view_name": "LayoutView",
            "align_content": null,
            "align_items": null,
            "align_self": null,
            "border": null,
            "bottom": null,
            "display": null,
            "flex": null,
            "flex_flow": null,
            "grid_area": null,
            "grid_auto_columns": null,
            "grid_auto_flow": null,
            "grid_auto_rows": null,
            "grid_column": null,
            "grid_gap": null,
            "grid_row": null,
            "grid_template_areas": null,
            "grid_template_columns": null,
            "grid_template_rows": null,
            "height": null,
            "justify_content": null,
            "justify_items": null,
            "left": null,
            "margin": null,
            "max_height": null,
            "max_width": null,
            "min_height": null,
            "min_width": null,
            "object_fit": null,
            "object_position": null,
            "order": null,
            "overflow": null,
            "overflow_x": null,
            "overflow_y": null,
            "padding": null,
            "right": null,
            "top": null,
            "visibility": null,
            "width": null
          }
        },
        "d27f45e963ee458c98a9deff74e47f38": {
          "model_module": "@jupyter-widgets/controls",
          "model_name": "DescriptionStyleModel",
          "model_module_version": "1.5.0",
          "state": {
            "_model_module": "@jupyter-widgets/controls",
            "_model_module_version": "1.5.0",
            "_model_name": "DescriptionStyleModel",
            "_view_count": null,
            "_view_module": "@jupyter-widgets/base",
            "_view_module_version": "1.2.0",
            "_view_name": "StyleView",
            "description_width": ""
          }
        },
        "1e9e41f330b045638226324a10d55aee": {
          "model_module": "@jupyter-widgets/controls",
          "model_name": "HBoxModel",
          "model_module_version": "1.5.0",
          "state": {
            "_dom_classes": [],
            "_model_module": "@jupyter-widgets/controls",
            "_model_module_version": "1.5.0",
            "_model_name": "HBoxModel",
            "_view_count": null,
            "_view_module": "@jupyter-widgets/controls",
            "_view_module_version": "1.5.0",
            "_view_name": "HBoxView",
            "box_style": "",
            "children": [
              "IPY_MODEL_2b38404744884d2eb787645d052f5c3a",
              "IPY_MODEL_bcb2d6271bff4654a6a962419cb49d6a",
              "IPY_MODEL_a63e62e3424b49d4b3577191f15fe2dd"
            ],
            "layout": "IPY_MODEL_2537ebfc9ac441d194f6463b832650d8"
          }
        },
        "2b38404744884d2eb787645d052f5c3a": {
          "model_module": "@jupyter-widgets/controls",
          "model_name": "HTMLModel",
          "model_module_version": "1.5.0",
          "state": {
            "_dom_classes": [],
            "_model_module": "@jupyter-widgets/controls",
            "_model_module_version": "1.5.0",
            "_model_name": "HTMLModel",
            "_view_count": null,
            "_view_module": "@jupyter-widgets/controls",
            "_view_module_version": "1.5.0",
            "_view_name": "HTMLView",
            "description": "",
            "description_tooltip": null,
            "layout": "IPY_MODEL_aa9252e4cbc7491684be75859ea5957f",
            "placeholder": "​",
            "style": "IPY_MODEL_dea93548b75e437c99fcc165ced9bec8",
            "value": ""
          }
        },
        "bcb2d6271bff4654a6a962419cb49d6a": {
          "model_module": "@jupyter-widgets/controls",
          "model_name": "FloatProgressModel",
          "model_module_version": "1.5.0",
          "state": {
            "_dom_classes": [],
            "_model_module": "@jupyter-widgets/controls",
            "_model_module_version": "1.5.0",
            "_model_name": "FloatProgressModel",
            "_view_count": null,
            "_view_module": "@jupyter-widgets/controls",
            "_view_module_version": "1.5.0",
            "_view_name": "ProgressView",
            "bar_style": "success",
            "description": "",
            "description_tooltip": null,
            "layout": "IPY_MODEL_ca3debd93f234e0fb9d88b1d04e23ac4",
            "max": 4542,
            "min": 0,
            "orientation": "horizontal",
            "style": "IPY_MODEL_402d4d8406be47afa08424fe56666623",
            "value": 4542
          }
        },
        "a63e62e3424b49d4b3577191f15fe2dd": {
          "model_module": "@jupyter-widgets/controls",
          "model_name": "HTMLModel",
          "model_module_version": "1.5.0",
          "state": {
            "_dom_classes": [],
            "_model_module": "@jupyter-widgets/controls",
            "_model_module_version": "1.5.0",
            "_model_name": "HTMLModel",
            "_view_count": null,
            "_view_module": "@jupyter-widgets/controls",
            "_view_module_version": "1.5.0",
            "_view_name": "HTMLView",
            "description": "",
            "description_tooltip": null,
            "layout": "IPY_MODEL_26913dccb3b6494c9b63237bd8fefdc9",
            "placeholder": "​",
            "style": "IPY_MODEL_9b5d751783204f89a67ef59f50e41877",
            "value": " 5120/? [00:00&lt;00:00, 122472.61it/s]"
          }
        },
        "2537ebfc9ac441d194f6463b832650d8": {
          "model_module": "@jupyter-widgets/base",
          "model_name": "LayoutModel",
          "model_module_version": "1.2.0",
          "state": {
            "_model_module": "@jupyter-widgets/base",
            "_model_module_version": "1.2.0",
            "_model_name": "LayoutModel",
            "_view_count": null,
            "_view_module": "@jupyter-widgets/base",
            "_view_module_version": "1.2.0",
            "_view_name": "LayoutView",
            "align_content": null,
            "align_items": null,
            "align_self": null,
            "border": null,
            "bottom": null,
            "display": null,
            "flex": null,
            "flex_flow": null,
            "grid_area": null,
            "grid_auto_columns": null,
            "grid_auto_flow": null,
            "grid_auto_rows": null,
            "grid_column": null,
            "grid_gap": null,
            "grid_row": null,
            "grid_template_areas": null,
            "grid_template_columns": null,
            "grid_template_rows": null,
            "height": null,
            "justify_content": null,
            "justify_items": null,
            "left": null,
            "margin": null,
            "max_height": null,
            "max_width": null,
            "min_height": null,
            "min_width": null,
            "object_fit": null,
            "object_position": null,
            "order": null,
            "overflow": null,
            "overflow_x": null,
            "overflow_y": null,
            "padding": null,
            "right": null,
            "top": null,
            "visibility": null,
            "width": null
          }
        },
        "aa9252e4cbc7491684be75859ea5957f": {
          "model_module": "@jupyter-widgets/base",
          "model_name": "LayoutModel",
          "model_module_version": "1.2.0",
          "state": {
            "_model_module": "@jupyter-widgets/base",
            "_model_module_version": "1.2.0",
            "_model_name": "LayoutModel",
            "_view_count": null,
            "_view_module": "@jupyter-widgets/base",
            "_view_module_version": "1.2.0",
            "_view_name": "LayoutView",
            "align_content": null,
            "align_items": null,
            "align_self": null,
            "border": null,
            "bottom": null,
            "display": null,
            "flex": null,
            "flex_flow": null,
            "grid_area": null,
            "grid_auto_columns": null,
            "grid_auto_flow": null,
            "grid_auto_rows": null,
            "grid_column": null,
            "grid_gap": null,
            "grid_row": null,
            "grid_template_areas": null,
            "grid_template_columns": null,
            "grid_template_rows": null,
            "height": null,
            "justify_content": null,
            "justify_items": null,
            "left": null,
            "margin": null,
            "max_height": null,
            "max_width": null,
            "min_height": null,
            "min_width": null,
            "object_fit": null,
            "object_position": null,
            "order": null,
            "overflow": null,
            "overflow_x": null,
            "overflow_y": null,
            "padding": null,
            "right": null,
            "top": null,
            "visibility": null,
            "width": null
          }
        },
        "dea93548b75e437c99fcc165ced9bec8": {
          "model_module": "@jupyter-widgets/controls",
          "model_name": "DescriptionStyleModel",
          "model_module_version": "1.5.0",
          "state": {
            "_model_module": "@jupyter-widgets/controls",
            "_model_module_version": "1.5.0",
            "_model_name": "DescriptionStyleModel",
            "_view_count": null,
            "_view_module": "@jupyter-widgets/base",
            "_view_module_version": "1.2.0",
            "_view_name": "StyleView",
            "description_width": ""
          }
        },
        "ca3debd93f234e0fb9d88b1d04e23ac4": {
          "model_module": "@jupyter-widgets/base",
          "model_name": "LayoutModel",
          "model_module_version": "1.2.0",
          "state": {
            "_model_module": "@jupyter-widgets/base",
            "_model_module_version": "1.2.0",
            "_model_name": "LayoutModel",
            "_view_count": null,
            "_view_module": "@jupyter-widgets/base",
            "_view_module_version": "1.2.0",
            "_view_name": "LayoutView",
            "align_content": null,
            "align_items": null,
            "align_self": null,
            "border": null,
            "bottom": null,
            "display": null,
            "flex": null,
            "flex_flow": null,
            "grid_area": null,
            "grid_auto_columns": null,
            "grid_auto_flow": null,
            "grid_auto_rows": null,
            "grid_column": null,
            "grid_gap": null,
            "grid_row": null,
            "grid_template_areas": null,
            "grid_template_columns": null,
            "grid_template_rows": null,
            "height": null,
            "justify_content": null,
            "justify_items": null,
            "left": null,
            "margin": null,
            "max_height": null,
            "max_width": null,
            "min_height": null,
            "min_width": null,
            "object_fit": null,
            "object_position": null,
            "order": null,
            "overflow": null,
            "overflow_x": null,
            "overflow_y": null,
            "padding": null,
            "right": null,
            "top": null,
            "visibility": null,
            "width": null
          }
        },
        "402d4d8406be47afa08424fe56666623": {
          "model_module": "@jupyter-widgets/controls",
          "model_name": "ProgressStyleModel",
          "model_module_version": "1.5.0",
          "state": {
            "_model_module": "@jupyter-widgets/controls",
            "_model_module_version": "1.5.0",
            "_model_name": "ProgressStyleModel",
            "_view_count": null,
            "_view_module": "@jupyter-widgets/base",
            "_view_module_version": "1.2.0",
            "_view_name": "StyleView",
            "bar_color": null,
            "description_width": ""
          }
        },
        "26913dccb3b6494c9b63237bd8fefdc9": {
          "model_module": "@jupyter-widgets/base",
          "model_name": "LayoutModel",
          "model_module_version": "1.2.0",
          "state": {
            "_model_module": "@jupyter-widgets/base",
            "_model_module_version": "1.2.0",
            "_model_name": "LayoutModel",
            "_view_count": null,
            "_view_module": "@jupyter-widgets/base",
            "_view_module_version": "1.2.0",
            "_view_name": "LayoutView",
            "align_content": null,
            "align_items": null,
            "align_self": null,
            "border": null,
            "bottom": null,
            "display": null,
            "flex": null,
            "flex_flow": null,
            "grid_area": null,
            "grid_auto_columns": null,
            "grid_auto_flow": null,
            "grid_auto_rows": null,
            "grid_column": null,
            "grid_gap": null,
            "grid_row": null,
            "grid_template_areas": null,
            "grid_template_columns": null,
            "grid_template_rows": null,
            "height": null,
            "justify_content": null,
            "justify_items": null,
            "left": null,
            "margin": null,
            "max_height": null,
            "max_width": null,
            "min_height": null,
            "min_width": null,
            "object_fit": null,
            "object_position": null,
            "order": null,
            "overflow": null,
            "overflow_x": null,
            "overflow_y": null,
            "padding": null,
            "right": null,
            "top": null,
            "visibility": null,
            "width": null
          }
        },
        "9b5d751783204f89a67ef59f50e41877": {
          "model_module": "@jupyter-widgets/controls",
          "model_name": "DescriptionStyleModel",
          "model_module_version": "1.5.0",
          "state": {
            "_model_module": "@jupyter-widgets/controls",
            "_model_module_version": "1.5.0",
            "_model_name": "DescriptionStyleModel",
            "_view_count": null,
            "_view_module": "@jupyter-widgets/base",
            "_view_module_version": "1.2.0",
            "_view_name": "StyleView",
            "description_width": ""
          }
        }
      }
    }
  },
  "nbformat": 4,
  "nbformat_minor": 0
}