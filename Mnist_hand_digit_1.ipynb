{
  "cells": [
    {
      "cell_type": "markdown",
      "metadata": {
        "id": "view-in-github",
        "colab_type": "text"
      },
      "source": [
        "<a href=\"https://colab.research.google.com/github/RishikaSamala/IU_AML/blob/main/Mnist_hand_digit_1.ipynb\" target=\"_parent\"><img src=\"https://colab.research.google.com/assets/colab-badge.svg\" alt=\"Open In Colab\"/></a>"
      ]
    },
    {
      "cell_type": "code",
      "execution_count": 4,
      "metadata": {
        "id": "eHqduUg_tKS4"
      },
      "outputs": [],
      "source": [
        "import numpy as np\n",
        "import torch\n",
        "import torchvision\n",
        "import torch.nn.functional as F\n",
        "import matplotlib.pyplot as plt\n",
        "from time import time\n",
        "from torch.autograd import Variable\n",
        "from torchvision import datasets, transforms\n",
        "from torch import nn, optim"
      ]
    },
    {
      "cell_type": "code",
      "execution_count": null,
      "metadata": {
        "id": "5xTrIYeStKS7"
      },
      "outputs": [],
      "source": [
        "#train_data = datasets.MNIST('E://rishika//work' ,train=True,download=True,transform=transforms.ToTensor())\n",
        "train_data = torchvision.datasets.MNIST('content/sample_data',train=True,download=True,transform=transforms.ToTensor())"
      ]
    },
    {
      "cell_type": "code",
      "execution_count": 6,
      "metadata": {
        "id": "9IEFcH04tKS8"
      },
      "outputs": [],
      "source": [
        "#test_data = datasets.MNIST('E://rishika//work' ,train=False,download=True,transform=transforms.ToTensor())\n",
        "test_data = torchvision.datasets.MNIST('content/sample_data',train=False,download=True,transform=transforms.ToTensor())"
      ]
    },
    {
      "cell_type": "code",
      "execution_count": 7,
      "metadata": {
        "id": "aaWXNmRztKS9"
      },
      "outputs": [],
      "source": [
        "trainloader = torch.utils.data.DataLoader(train_data, batch_size=64, shuffle=True)"
      ]
    },
    {
      "cell_type": "code",
      "execution_count": 8,
      "metadata": {
        "id": "h1WpAq87tKS9"
      },
      "outputs": [],
      "source": [
        "train_iter = iter(trainloader)\n",
        "(images,labels) = train_iter.next()"
      ]
    },
    {
      "cell_type": "code",
      "execution_count": 9,
      "metadata": {
        "colab": {
          "base_uri": "https://localhost:8080/",
          "height": 384
        },
        "id": "Zjj4cIErtKS9",
        "outputId": "3618fbe0-b17c-40e3-8225-9a265a1ce820"
      },
      "outputs": [
        {
          "output_type": "display_data",
          "data": {
            "text/plain": [
              "<Figure size 720x576 with 10 Axes>"
            ],
            "image/png": "[encoded data removed]"
          },
          "metadata": {
            "needs_background": "light"
          }
        }
      ],
      "source": [
        "plt.figure(figsize=(10,8))\n",
        "for i in range(10):\n",
        "    plt.subplot(2,5,i+1)\n",
        "    plt.imshow(images[i][0])\n",
        "plt.show()"
      ]
    },
    {
      "cell_type": "code",
      "source": [
        "cnn.conv2.weight.shape"
      ],
      "metadata": {
        "colab": {
          "base_uri": "https://localhost:8080/"
        },
        "id": "d8vKb6LmohSH",
        "outputId": "2104ee84-ee73-47a6-908f-7abd3261b346"
      },
      "execution_count": 64,
      "outputs": [
        {
          "output_type": "execute_result",
          "data": {
            "text/plain": [
              "torch.Size([12, 12, 4, 4])"
            ]
          },
          "metadata": {},
          "execution_count": 64
        }
      ]
    },
    {
      "cell_type": "code",
      "source": [
        "torch.nn.parameter.Parameter(torch.randn(8,8,1)).shape"
      ],
      "metadata": {
        "colab": {
          "base_uri": "https://localhost:8080/"
        },
        "id": "kNJJAiO8rb6R",
        "outputId": "23755400-4ea6-478e-9461-eb18593102c7"
      },
      "execution_count": 36,
      "outputs": [
        {
          "output_type": "execute_result",
          "data": {
            "text/plain": [
              "torch.Size([8, 8, 1])"
            ]
          },
          "metadata": {},
          "execution_count": 36
        }
      ]
    },
    {
      "cell_type": "code",
      "execution_count": 66,
      "metadata": {
        "colab": {
          "base_uri": "https://localhost:8080/"
        },
        "id": "D_NY50AEtKS-",
        "outputId": "fb23cde9-f0da-4bad-cf16-bb9cbfc876a0"
      },
      "outputs": [
        {
          "output_type": "stream",
          "name": "stdout",
          "text": [
            "CNN(\n",
            "  (conv1): Conv2d(1, 12, kernel_size=(8, 8), stride=(1, 1))\n",
            "  (conv2): Conv2d(12, 12, kernel_size=(4, 4), stride=(1, 1))\n",
            "  (fc1): Linear(in_features=3888, out_features=30, bias=True)\n",
            "  (fc2): Linear(in_features=30, out_features=10, bias=True)\n",
            ")\n"
          ]
        }
      ],
      "source": [
        "class CNN(nn.Module):\n",
        "    def __init__(self):\n",
        "        super(CNN, self).__init__()\n",
        "        self.conv1 = nn.Conv2d(1, 12, kernel_size=8)\n",
        "        self.conv1.weight = self.weight_init_xavier_cnn(12,1,8)\n",
        "        self.conv2 = nn.Conv2d(12, 12, kernel_size=4)\n",
        "        self.conv2.weight = self.weight_init_xavier_cnn(12,12,4)\n",
        "        self.fc1 = nn.Linear(18*18*12,30)\n",
        "        self.fc1.weight = self.weight_init_xavier_fc(30,3888)\n",
        "        self.fc2 = nn.Linear(30,10)\n",
        "        self.fc2.weight = self.weight_init_xavier_fc(10,30)\n",
        "\n",
        "    def forward(self, x):\n",
        "        x = F.relu(self.conv1(x))\n",
        "        x = F.relu(self.conv2(x))\n",
        "        x = x.view(x.size()[0],-1)\n",
        "        x = F.relu(self.fc1(x))\n",
        "        x = F.relu(self.fc2(x))\n",
        "        return x\n",
        " \n",
        "    def weight_init_xavier_cnn(self,feature_maps_num,input_feature_maps,kernel_size): \n",
        "      weight = nn.init.xavier_uniform_(torch.randn(feature_maps_num,input_feature_maps,kernel_size,kernel_size), gain=1.0)\n",
        "      return nn.parameter.Parameter(weight)\n",
        "\n",
        "    def weight_init_xavier_fc(self,out_nodes,inp_nodes):\n",
        "      weight = nn.init.xavier_uniform_(torch.randn(out_nodes,inp_nodes), gain=1.0)\n",
        "      return nn.parameter.Parameter(weight)\n",
        "\n",
        "    \n",
        "\n",
        "cnn = CNN()\n",
        "print(cnn)"
      ]
    },
    {
      "cell_type": "code",
      "execution_count": 67,
      "metadata": {
        "colab": {
          "base_uri": "https://localhost:8080/"
        },
        "id": "vX4ofJI7tKTA",
        "outputId": "3bbf6afb-94c1-4621-e937-568f50350e1d"
      },
      "outputs": [
        {
          "output_type": "stream",
          "name": "stdout",
          "text": [
            "Epoch : 0 [ \t Loss:0.136%\n",
            "Epoch : 1 [ \t Loss:0.004%\n",
            "Epoch : 2 [ \t Loss:0.061%\n",
            "Epoch : 3 [ \t Loss:0.007%\n",
            "Epoch : 4 [ \t Loss:0.007%\n"
          ]
        }
      ],
      "source": [
        "epochs = 5\n",
        "loss_func = nn.CrossEntropyLoss()\n",
        "optimizer = torch.optim.Adam(cnn.parameters())\n",
        "for epoch in range(epochs):\n",
        "    for i,(images,labels) in enumerate(trainloader):\n",
        "        \n",
        "        images = images.reshape(-1,1,28,28)\n",
        "        outputs = cnn(images)\n",
        "        loss = loss_func(outputs,labels)\n",
        "        optimizer.zero_grad()\n",
        "        loss.backward()\n",
        "        optimizer.step()\n",
        "    print('Epoch : {} [ \\t Loss:{:.3f}%'.format(epoch,loss.item()))\n",
        "    "
      ]
    },
    {
      "cell_type": "code",
      "execution_count": 12,
      "metadata": {
        "colab": {
          "base_uri": "https://localhost:8080/"
        },
        "id": "94-q21iztKTB",
        "outputId": "f304edc0-b086-4794-c07c-b67ddf08bc5a"
      },
      "outputs": [
        {
          "output_type": "execute_result",
          "data": {
            "text/plain": [
              "tensor([[-0.2752],\n",
              "        [-0.1934],\n",
              "        [ 0.1096],\n",
              "        [ 0.1790],\n",
              "        [-0.1405],\n",
              "        [-0.0734],\n",
              "        [-0.0263],\n",
              "        [-0.2053],\n",
              "        [ 0.1857],\n",
              "        [-0.1922],\n",
              "        [-0.0938],\n",
              "        [ 0.2536],\n",
              "        [-0.1598],\n",
              "        [ 0.2122],\n",
              "        [ 0.2230],\n",
              "        [-0.1202],\n",
              "        [ 0.2259],\n",
              "        [ 0.1193],\n",
              "        [ 0.2784],\n",
              "        [ 0.0043],\n",
              "        [-0.0190],\n",
              "        [-0.1017],\n",
              "        [-0.1061],\n",
              "        [ 0.2379],\n",
              "        [ 0.0653],\n",
              "        [-0.2950],\n",
              "        [-0.2062],\n",
              "        [-0.2365],\n",
              "        [ 0.0995],\n",
              "        [ 0.1744],\n",
              "        [ 0.0126],\n",
              "        [-0.2147],\n",
              "        [-0.1156],\n",
              "        [-0.0060],\n",
              "        [-0.1391],\n",
              "        [ 0.1855],\n",
              "        [ 0.1460],\n",
              "        [ 0.1516],\n",
              "        [ 0.1907],\n",
              "        [ 0.2610],\n",
              "        [ 0.0483],\n",
              "        [-0.0840],\n",
              "        [-0.1119],\n",
              "        [-0.0733],\n",
              "        [-0.0059],\n",
              "        [ 0.1570],\n",
              "        [ 0.0592],\n",
              "        [-0.1772],\n",
              "        [-0.0916],\n",
              "        [ 0.1484],\n",
              "        [-0.1493],\n",
              "        [ 0.2017],\n",
              "        [-0.1708],\n",
              "        [-0.2604],\n",
              "        [-0.2053],\n",
              "        [ 0.0255],\n",
              "        [-0.1702],\n",
              "        [-0.2019],\n",
              "        [-0.0259],\n",
              "        [ 0.0589],\n",
              "        [-0.0102],\n",
              "        [-0.0544],\n",
              "        [-0.1908],\n",
              "        [-0.0545]])"
            ]
          },
          "metadata": {},
          "execution_count": 12
        }
      ],
      "source": [
        "weight1 = torch.randn(1*8*8,1)\n",
        "torch.nn.init.xavier_uniform_(weight1, gain=1.0)"
      ]
    },
    {
      "cell_type": "code",
      "execution_count": null,
      "metadata": {
        "id": "IrNdqbrZtKTB"
      },
      "outputs": [],
      "source": [
        "def xavier(m,h):\n",
        "  return torch.Tensor(m,h).uniform_(-1,1)*math.sqrt(6./(m+h))\n",
        "  \n",
        "x=torch.randn(1*12*12)\n",
        "for i in range(100):\n",
        "  a = xavier(144*144)\n",
        "\n"
      ]
    },
    {
      "cell_type": "code",
      "execution_count": null,
      "metadata": {
        "id": "8Og87uo3tKTB"
      },
      "outputs": [],
      "source": [
        ""
      ]
    },
    {
      "cell_type": "code",
      "execution_count": null,
      "metadata": {
        "id": "yq-GkZZitKTC"
      },
      "outputs": [],
      "source": [
        ""
      ]
    },
    {
      "cell_type": "code",
      "execution_count": null,
      "metadata": {
        "id": "O2GZstUxtKTC"
      },
      "outputs": [],
      "source": [
        ""
      ]
    },
    {
      "cell_type": "code",
      "execution_count": null,
      "metadata": {
        "id": "XerwojFItKTC"
      },
      "outputs": [],
      "source": [
        ""
      ]
    },
    {
      "cell_type": "code",
      "execution_count": null,
      "metadata": {
        "id": "AgM72XVYtKTC"
      },
      "outputs": [],
      "source": [
        ""
      ]
    },
    {
      "cell_type": "code",
      "execution_count": null,
      "metadata": {
        "id": "R87W2N4htKTD"
      },
      "outputs": [],
      "source": [
        ""
      ]
    },
    {
      "cell_type": "code",
      "execution_count": null,
      "metadata": {
        "id": "FmJK-u5itKTD"
      },
      "outputs": [],
      "source": [
        ""
      ]
    },
    {
      "cell_type": "code",
      "execution_count": null,
      "metadata": {
        "id": "SKJ20MvStKTD"
      },
      "outputs": [],
      "source": [
        ""
      ]
    },
    {
      "cell_type": "code",
      "execution_count": null,
      "metadata": {
        "id": "4QYHkTuItKTD"
      },
      "outputs": [],
      "source": [
        ""
      ]
    },
    {
      "cell_type": "code",
      "execution_count": null,
      "metadata": {
        "id": "YdObIge9tKTD"
      },
      "outputs": [],
      "source": [
        ""
      ]
    }
  ],
  "metadata": {
    "kernelspec": {
      "display_name": "Python 3",
      "language": "python",
      "name": "python3"
    },
    "language_info": {
      "codemirror_mode": {
        "name": "ipython",
        "version": 3
      },
      "file_extension": ".py",
      "mimetype": "text/x-python",
      "name": "python",
      "nbconvert_exporter": "python",
      "pygments_lexer": "ipython3",
      "version": "3.7.3"
    },
    "colab": {
      "name": "Mnist_hand_digit_1.ipynb",
      "provenance": [],
      "include_colab_link": true
    }
  },
  "nbformat": 4,
  "nbformat_minor": 0
}