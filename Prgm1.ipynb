{
  "cells": [
    {
      "cell_type": "markdown",
      "metadata": {
        "id": "view-in-github",
        "colab_type": "text"
      },
      "source": [
        "<a href=\"https://colab.research.google.com/github/RishikaSamala/IU_AML/blob/main/Prgm1.ipynb\" target=\"_parent\"><img src=\"https://colab.research.google.com/assets/colab-badge.svg\" alt=\"Open In Colab\"/></a>"
      ]
    },
    {
      "cell_type": "code",
      "execution_count": 26,
      "id": "b4ba44e5",
      "metadata": {
        "id": "b4ba44e5"
      },
      "outputs": [],
      "source": [
        "import torch\n",
        "import torch.nn as nn\n",
        "import torchvision\n",
        "import numpy as np\n",
        "import matplotlib.pyplot as plt\n",
        "from torchvision import transforms"
      ]
    },
    {
      "cell_type": "code",
      "execution_count": 27,
      "id": "34af6dee",
      "metadata": {
        "id": "34af6dee"
      },
      "outputs": [],
      "source": [
        "train_data = torchvision.datasets.MNIST('content/sample_data',train=True,download=True,transform=transforms.ToTensor())"
      ]
    },
    {
      "cell_type": "code",
      "execution_count": 28,
      "id": "3604b81c",
      "metadata": {
        "id": "3604b81c"
      },
      "outputs": [],
      "source": [
        "#torchvision.datasets.MNIST('C://users//rishika//AML//Assignment3',train=False,download=True)"
      ]
    },
    {
      "cell_type": "code",
      "source": [
        "type(train_data)"
      ],
      "metadata": {
        "id": "IxhhKAqH2Kg5",
        "outputId": "8c09f87d-70f8-44c0-f9df-2dbd8e25b918",
        "colab": {
          "base_uri": "https://localhost:8080/"
        }
      },
      "id": "IxhhKAqH2Kg5",
      "execution_count": 29,
      "outputs": [
        {
          "output_type": "execute_result",
          "data": {
            "text/plain": [
              "torchvision.datasets.mnist.MNIST"
            ]
          },
          "metadata": {},
          "execution_count": 29
        }
      ]
    },
    {
      "cell_type": "code",
      "execution_count": 30,
      "id": "593efbb4",
      "metadata": {
        "colab": {
          "base_uri": "https://localhost:8080/"
        },
        "id": "593efbb4",
        "outputId": "1baffb2d-0d49-47d6-dbd9-aa546d914b6b"
      },
      "outputs": [
        {
          "output_type": "execute_result",
          "data": {
            "text/plain": [
              "torch.Size([60000, 28, 28])"
            ]
          },
          "metadata": {},
          "execution_count": 30
        }
      ],
      "source": [
        "train_data.data.shape"
      ]
    },
    {
      "cell_type": "code",
      "source": [
        "type(train_data.data)"
      ],
      "metadata": {
        "id": "QLTrWNRf2YRk",
        "outputId": "e3ae9607-5759-41c9-c932-7b3e61c66024",
        "colab": {
          "base_uri": "https://localhost:8080/"
        }
      },
      "id": "QLTrWNRf2YRk",
      "execution_count": 31,
      "outputs": [
        {
          "output_type": "execute_result",
          "data": {
            "text/plain": [
              "torch.Tensor"
            ]
          },
          "metadata": {},
          "execution_count": 31
        }
      ]
    },
    {
      "cell_type": "code",
      "execution_count": 32,
      "id": "a84bc290",
      "metadata": {
        "colab": {
          "base_uri": "https://localhost:8080/",
          "height": 282
        },
        "id": "a84bc290",
        "outputId": "f5aae47c-85e4-43d6-8140-cb3d737e94fa"
      },
      "outputs": [
        {
          "output_type": "execute_result",
          "data": {
            "text/plain": [
              "<matplotlib.image.AxesImage at 0x7f6856710250>"
            ]
          },
          "metadata": {},
          "execution_count": 32
        },
        {
          "output_type": "display_data",
          "data": {
            "text/plain": [
              "<Figure size 432x288 with 1 Axes>"
            ],
            "image/png": "[encoded data removed]"
          },
          "metadata": {
            "needs_background": "light"
          }
        }
      ],
      "source": [
        "plt.imshow(train_data.data[59000])"
      ]
    },
    {
      "cell_type": "code",
      "source": [
        "import tensorflow as tf\n",
        "tf.test.gpu_device_name()"
      ],
      "metadata": {
        "colab": {
          "base_uri": "https://localhost:8080/",
          "height": 35
        },
        "id": "O_VXeH7uijHs",
        "outputId": "c1ec4554-763b-491b-e7ef-3fb4334b493d"
      },
      "id": "O_VXeH7uijHs",
      "execution_count": 33,
      "outputs": [
        {
          "output_type": "execute_result",
          "data": {
            "text/plain": [
              "'/device:GPU:0'"
            ],
            "application/vnd.google.colaboratory.intrinsic+json": {
              "type": "string"
            }
          },
          "metadata": {},
          "execution_count": 33
        }
      ]
    },
    {
      "cell_type": "code",
      "execution_count": 34,
      "id": "6e2a3c97",
      "metadata": {
        "id": "6e2a3c97"
      },
      "outputs": [],
      "source": [
        "imag1 = np.array(train_data.data[0])#.reshape(28,28,1)"
      ]
    },
    {
      "cell_type": "code",
      "execution_count": 35,
      "id": "b86d1371",
      "metadata": {
        "id": "b86d1371"
      },
      "outputs": [],
      "source": [
        "import matplotlib"
      ]
    },
    {
      "cell_type": "code",
      "execution_count": 36,
      "id": "95169640",
      "metadata": {
        "id": "95169640",
        "outputId": "77d8d5fb-1b19-4145-e8c7-b0c59d5304ec",
        "colab": {
          "base_uri": "https://localhost:8080/",
          "height": 35
        }
      },
      "outputs": [
        {
          "output_type": "execute_result",
          "data": {
            "text/plain": [
              "'3.2.2'"
            ],
            "application/vnd.google.colaboratory.intrinsic+json": {
              "type": "string"
            }
          },
          "metadata": {},
          "execution_count": 36
        }
      ],
      "source": [
        "matplotlib.__version__"
      ]
    },
    {
      "cell_type": "code",
      "execution_count": 37,
      "id": "e7e3f7a1",
      "metadata": {
        "id": "e7e3f7a1"
      },
      "outputs": [],
      "source": [
        "trainloader = torch.utils.data.DataLoader(train_data, batch_size=64, shuffle=True)"
      ]
    },
    {
      "cell_type": "code",
      "execution_count": 38,
      "id": "bfb10d5f",
      "metadata": {
        "id": "bfb10d5f"
      },
      "outputs": [],
      "source": [
        "train_iter = iter(trainloader)\n",
        "images,labels = train_iter.next()"
      ]
    },
    {
      "cell_type": "code",
      "execution_count": 38,
      "id": "5590cec6",
      "metadata": {
        "id": "5590cec6"
      },
      "outputs": [],
      "source": [
        ""
      ]
    },
    {
      "cell_type": "code",
      "execution_count": 39,
      "id": "61288671",
      "metadata": {
        "id": "61288671",
        "outputId": "4e2988d1-d179-4e9b-f8e5-40342265f377",
        "colab": {
          "base_uri": "https://localhost:8080/",
          "height": 282
        }
      },
      "outputs": [
        {
          "output_type": "execute_result",
          "data": {
            "text/plain": [
              "<matplotlib.image.AxesImage at 0x7f68563b5410>"
            ]
          },
          "metadata": {},
          "execution_count": 39
        },
        {
          "output_type": "display_data",
          "data": {
            "text/plain": [
              "<Figure size 432x288 with 1 Axes>"
            ],
            "image/png": "[encoded data removed]"
          },
          "metadata": {
            "needs_background": "light"
          }
        }
      ],
      "source": [
        "%matplotlib inline\n",
        "plt.imshow(images[2][0])"
      ]
    },
    {
      "cell_type": "code",
      "execution_count": 40,
      "id": "77f2f33e",
      "metadata": {
        "id": "77f2f33e"
      },
      "outputs": [],
      "source": [
        "#plt.imshow(imag1)"
      ]
    },
    {
      "cell_type": "code",
      "execution_count": 41,
      "id": "a90aba9a",
      "metadata": {
        "id": "a90aba9a",
        "outputId": "6232f322-1db0-407f-e94e-18b661b5f39f",
        "colab": {
          "base_uri": "https://localhost:8080/"
        }
      },
      "outputs": [
        {
          "output_type": "execute_result",
          "data": {
            "text/plain": [
              "dtype('uint8')"
            ]
          },
          "metadata": {},
          "execution_count": 41
        }
      ],
      "source": [
        "imag1.dtype"
      ]
    },
    {
      "cell_type": "code",
      "execution_count": 42,
      "id": "ac12c518",
      "metadata": {
        "id": "ac12c518",
        "outputId": "007b8763-2a5f-4e6c-e078-6be6e20df594",
        "colab": {
          "base_uri": "https://localhost:8080/"
        }
      },
      "outputs": [
        {
          "output_type": "execute_result",
          "data": {
            "text/plain": [
              "(28, 28)"
            ]
          },
          "metadata": {},
          "execution_count": 42
        }
      ],
      "source": [
        "imag1.shape"
      ]
    },
    {
      "cell_type": "code",
      "execution_count": 43,
      "id": "f7712eb0",
      "metadata": {
        "id": "f7712eb0"
      },
      "outputs": [],
      "source": [
        "imalst1 = np.array(imag1.tolist())"
      ]
    },
    {
      "cell_type": "code",
      "execution_count": 44,
      "id": "88a750ad",
      "metadata": {
        "id": "88a750ad"
      },
      "outputs": [],
      "source": [
        "#plt.imshow(imalst1)"
      ]
    },
    {
      "cell_type": "code",
      "source": [
        "train_data.data.shape[2:]"
      ],
      "metadata": {
        "id": "xb75SzA9Kqr7",
        "outputId": "28a7db01-0044-47dd-b748-2432895a7903",
        "colab": {
          "base_uri": "https://localhost:8080/"
        }
      },
      "id": "xb75SzA9Kqr7",
      "execution_count": 45,
      "outputs": [
        {
          "output_type": "execute_result",
          "data": {
            "text/plain": [
              "torch.Size([28])"
            ]
          },
          "metadata": {},
          "execution_count": 45
        }
      ]
    },
    {
      "cell_type": "code",
      "source": [
        "train_data.data.dtype"
      ],
      "metadata": {
        "id": "fCUvjfzwMS0q",
        "outputId": "9b198e84-f78a-4c0a-9802-497912cef015",
        "colab": {
          "base_uri": "https://localhost:8080/"
        }
      },
      "id": "fCUvjfzwMS0q",
      "execution_count": 46,
      "outputs": [
        {
          "output_type": "execute_result",
          "data": {
            "text/plain": [
              "torch.uint8"
            ]
          },
          "metadata": {},
          "execution_count": 46
        }
      ]
    },
    {
      "cell_type": "code",
      "source": [
        "train_data.data = train_data.data.type(torch.DoubleTensor)"
      ],
      "metadata": {
        "id": "r96sk0hUN8Jb"
      },
      "id": "r96sk0hUN8Jb",
      "execution_count": 47,
      "outputs": []
    },
    {
      "cell_type": "code",
      "execution_count": 48,
      "id": "803fd623",
      "metadata": {
        "id": "803fd623",
        "outputId": "76692e52-1e98-4c19-b37d-f645da1179cd",
        "colab": {
          "base_uri": "https://localhost:8080/"
        }
      },
      "outputs": [
        {
          "output_type": "execute_result",
          "data": {
            "text/plain": [
              "tensor([[[-1.1719e-03,  2.5277e-04, -9.3895e-04,  ..., -1.1536e-03,\n",
              "           1.6483e-03, -9.3082e-04],\n",
              "         [ 1.4033e-03, -8.9635e-04, -1.7222e-03,  ..., -1.3506e-03,\n",
              "          -1.5218e-03,  3.4312e-04],\n",
              "         [-1.2948e-03, -8.4360e-04, -6.8295e-04,  ...,  1.4444e-03,\n",
              "          -1.5661e-03, -1.1203e-03],\n",
              "         ...,\n",
              "         [-1.1459e-03,  1.4938e-03,  1.3786e-03,  ..., -1.7956e-03,\n",
              "          -1.3962e-03,  1.6868e-03],\n",
              "         [ 6.2231e-04, -1.4564e-03, -2.6777e-04,  ...,  1.5199e-03,\n",
              "           3.2558e-04, -2.1162e-04],\n",
              "         [-5.7861e-04,  1.2337e-03,  1.6236e-03,  ..., -1.8057e-03,\n",
              "          -1.0156e-03, -4.3526e-04]],\n",
              "\n",
              "        [[-3.2293e-04,  4.0192e-04, -3.6433e-04,  ..., -1.8612e-03,\n",
              "           1.7489e-03,  7.7697e-04],\n",
              "         [ 1.5634e-03,  6.5552e-04, -1.5888e-03,  ..., -4.5020e-04,\n",
              "           1.6217e-03, -9.9566e-04],\n",
              "         [-1.0940e-03,  1.7420e-03,  1.1191e-03,  ..., -2.3457e-04,\n",
              "           1.0898e-03, -1.8638e-03],\n",
              "         ...,\n",
              "         [-1.8345e-03,  1.8075e-03, -1.4079e-03,  ...,  1.0405e-03,\n",
              "          -8.8127e-04, -1.2266e-03],\n",
              "         [ 2.5486e-05, -8.7551e-04,  4.4667e-04,  ...,  3.0072e-04,\n",
              "          -1.5603e-03, -1.9061e-04],\n",
              "         [-6.1264e-04, -3.3184e-04, -1.3778e-03,  ...,  1.4269e-03,\n",
              "           1.4795e-03,  2.5466e-04]],\n",
              "\n",
              "        [[ 1.5969e-03, -1.2673e-03, -1.8383e-03,  ..., -1.0505e-03,\n",
              "           1.5434e-04,  2.7606e-04],\n",
              "         [-2.2273e-05, -1.7016e-03,  9.8810e-04,  ..., -7.8819e-04,\n",
              "           1.3698e-03,  1.6061e-03],\n",
              "         [ 1.4311e-03, -1.2208e-03,  4.3508e-04,  ...,  1.1520e-03,\n",
              "           8.8349e-04,  1.8038e-03],\n",
              "         ...,\n",
              "         [ 8.4217e-04,  8.1438e-04, -1.3589e-03,  ...,  6.4856e-04,\n",
              "          -1.1133e-03,  1.2892e-03],\n",
              "         [-1.2553e-03,  3.2402e-04, -1.2834e-03,  ..., -1.8097e-03,\n",
              "          -1.9509e-04,  1.8700e-03],\n",
              "         [-7.6542e-04, -1.5686e-03,  1.8509e-03,  ..., -7.8540e-04,\n",
              "           3.1324e-04,  7.2169e-04]],\n",
              "\n",
              "        ...,\n",
              "\n",
              "        [[-3.4882e-04,  1.5816e-03,  1.7241e-03,  ...,  1.9236e-04,\n",
              "          -1.2618e-03,  1.7384e-03],\n",
              "         [-1.1655e-03,  4.5612e-04,  9.8792e-04,  ..., -9.3864e-04,\n",
              "           1.6668e-04,  8.6635e-04],\n",
              "         [ 7.7749e-04, -1.2164e-03, -4.9674e-04,  ..., -6.5517e-04,\n",
              "           4.7996e-04,  4.6305e-04],\n",
              "         ...,\n",
              "         [-1.5468e-03, -1.7393e-03, -7.1619e-04,  ..., -1.8323e-03,\n",
              "           7.7726e-04,  2.1144e-04],\n",
              "         [ 1.8074e-03,  1.8102e-04, -1.7908e-03,  ...,  1.1700e-04,\n",
              "           7.2563e-04,  1.6756e-03],\n",
              "         [-1.3619e-03,  2.4917e-04, -2.5606e-04,  ...,  4.2788e-05,\n",
              "          -1.4616e-03, -1.5558e-03]],\n",
              "\n",
              "        [[ 8.7475e-04,  2.0936e-04, -1.6164e-04,  ..., -1.5687e-03,\n",
              "          -1.1752e-03,  1.3595e-03],\n",
              "         [-9.9011e-04, -1.2248e-03,  8.0500e-04,  ..., -1.5357e-04,\n",
              "          -8.1716e-04, -2.6953e-04],\n",
              "         [ 1.0801e-03, -1.1847e-04, -6.0311e-04,  ...,  6.1463e-04,\n",
              "          -3.4672e-04,  9.1898e-04],\n",
              "         ...,\n",
              "         [-8.4738e-04,  1.8167e-03, -6.7757e-04,  ..., -1.1421e-03,\n",
              "           1.7114e-03, -1.6170e-03],\n",
              "         [ 1.0571e-03, -7.5541e-04,  1.4487e-04,  ...,  8.2839e-04,\n",
              "           6.9892e-04, -8.5639e-04],\n",
              "         [ 5.0580e-04,  1.5257e-03, -1.3394e-03,  ..., -2.6560e-04,\n",
              "          -6.0667e-04, -1.4076e-03]],\n",
              "\n",
              "        [[ 2.9089e-04,  1.9343e-04, -9.5699e-04,  ..., -1.6390e-03,\n",
              "          -1.7419e-03, -7.9905e-04],\n",
              "         [-7.0297e-05, -7.0745e-04,  1.0805e-03,  ..., -8.6104e-04,\n",
              "           6.7560e-04, -9.3809e-04],\n",
              "         [-1.8855e-03, -7.2539e-04, -1.1925e-03,  ...,  9.8412e-04,\n",
              "          -1.4006e-04,  1.8009e-03],\n",
              "         ...,\n",
              "         [ 1.6844e-03, -1.3196e-03,  1.4867e-03,  ..., -1.1844e-03,\n",
              "           1.0499e-03, -1.1787e-03],\n",
              "         [ 7.4921e-04, -1.8030e-03, -9.9490e-04,  ...,  1.5033e-03,\n",
              "           1.5116e-03,  1.1303e-03],\n",
              "         [-1.0150e-03,  7.4556e-04,  1.7789e-03,  ...,  5.5937e-04,\n",
              "          -1.1750e-03,  1.8308e-03]]], dtype=torch.float64)"
            ]
          },
          "metadata": {},
          "execution_count": 48
        }
      ],
      "source": [
        "torch.nn.init.xavier_uniform_(train_data.data, gain=1.0)"
      ]
    },
    {
      "cell_type": "code",
      "source": [
        ""
      ],
      "metadata": {
        "id": "T8WvtC5Mq-Zm"
      },
      "id": "T8WvtC5Mq-Zm",
      "execution_count": 48,
      "outputs": []
    },
    {
      "cell_type": "code",
      "source": [
        "model = nn.Sequential(nn.init.xavier_uniform_(train_data.data, gain=1.0),nn.Conv2d(1,12,8),nn.ReLU(),nn.Conv2d(12,12,4),nn.ReLU(),\n",
        "                      nn.Linear(12,30),nn.ReLU(),nn.Linear(30,10))"
      ],
      "metadata": {
        "id": "N_V7KVv0Lryy",
        "outputId": "16c05ca2-4bda-4aad-bb62-1853ddf3f296",
        "colab": {
          "base_uri": "https://localhost:8080/",
          "height": 450
        }
      },
      "id": "N_V7KVv0Lryy",
      "execution_count": 49,
      "outputs": [
        {
          "output_type": "error",
          "ename": "TypeError",
          "evalue": "ignored",
          "traceback": [
            "\u001b[0;31m---------------------------------------------------------------------------\u001b[0m",
            "\u001b[0;31mTypeError\u001b[0m                                 Traceback (most recent call last)",
            "\u001b[0;32m<ipython-input-49-3c0fa6a3ce06>\u001b[0m in \u001b[0;36m<module>\u001b[0;34m()\u001b[0m\n\u001b[1;32m      1\u001b[0m model = nn.Sequential(nn.init.xavier_uniform_(train_data.data, gain=1.0),nn.Conv2d(1,12,8),nn.ReLU(),nn.Conv2d(12,12,4),nn.ReLU(),\n\u001b[0;32m----> 2\u001b[0;31m                       nn.Linear(12,30),nn.ReLU(),nn.Linear(30,10))\n\u001b[0m",
            "\u001b[0;32m/usr/local/lib/python3.7/dist-packages/torch/nn/modules/container.py\u001b[0m in \u001b[0;36m__init__\u001b[0;34m(self, *args)\u001b[0m\n\u001b[1;32m     89\u001b[0m         \u001b[0;32melse\u001b[0m\u001b[0;34m:\u001b[0m\u001b[0;34m\u001b[0m\u001b[0;34m\u001b[0m\u001b[0m\n\u001b[1;32m     90\u001b[0m             \u001b[0;32mfor\u001b[0m \u001b[0midx\u001b[0m\u001b[0;34m,\u001b[0m \u001b[0mmodule\u001b[0m \u001b[0;32min\u001b[0m \u001b[0menumerate\u001b[0m\u001b[0;34m(\u001b[0m\u001b[0margs\u001b[0m\u001b[0;34m)\u001b[0m\u001b[0;34m:\u001b[0m\u001b[0;34m\u001b[0m\u001b[0;34m\u001b[0m\u001b[0m\n\u001b[0;32m---> 91\u001b[0;31m                 \u001b[0mself\u001b[0m\u001b[0;34m.\u001b[0m\u001b[0madd_module\u001b[0m\u001b[0;34m(\u001b[0m\u001b[0mstr\u001b[0m\u001b[0;34m(\u001b[0m\u001b[0midx\u001b[0m\u001b[0;34m)\u001b[0m\u001b[0;34m,\u001b[0m \u001b[0mmodule\u001b[0m\u001b[0;34m)\u001b[0m\u001b[0;34m\u001b[0m\u001b[0;34m\u001b[0m\u001b[0m\n\u001b[0m\u001b[1;32m     92\u001b[0m \u001b[0;34m\u001b[0m\u001b[0m\n\u001b[1;32m     93\u001b[0m     \u001b[0;32mdef\u001b[0m \u001b[0m_get_item_by_idx\u001b[0m\u001b[0;34m(\u001b[0m\u001b[0mself\u001b[0m\u001b[0;34m,\u001b[0m \u001b[0miterator\u001b[0m\u001b[0;34m,\u001b[0m \u001b[0midx\u001b[0m\u001b[0;34m)\u001b[0m \u001b[0;34m->\u001b[0m \u001b[0mT\u001b[0m\u001b[0;34m:\u001b[0m\u001b[0;34m\u001b[0m\u001b[0;34m\u001b[0m\u001b[0m\n",
            "\u001b[0;32m/usr/local/lib/python3.7/dist-packages/torch/nn/modules/module.py\u001b[0m in \u001b[0;36madd_module\u001b[0;34m(self, name, module)\u001b[0m\n\u001b[1;32m    376\u001b[0m         \u001b[0;32mif\u001b[0m \u001b[0;32mnot\u001b[0m \u001b[0misinstance\u001b[0m\u001b[0;34m(\u001b[0m\u001b[0mmodule\u001b[0m\u001b[0;34m,\u001b[0m \u001b[0mModule\u001b[0m\u001b[0;34m)\u001b[0m \u001b[0;32mand\u001b[0m \u001b[0mmodule\u001b[0m \u001b[0;32mis\u001b[0m \u001b[0;32mnot\u001b[0m \u001b[0;32mNone\u001b[0m\u001b[0;34m:\u001b[0m\u001b[0;34m\u001b[0m\u001b[0;34m\u001b[0m\u001b[0m\n\u001b[1;32m    377\u001b[0m             raise TypeError(\"{} is not a Module subclass\".format(\n\u001b[0;32m--> 378\u001b[0;31m                 torch.typename(module)))\n\u001b[0m\u001b[1;32m    379\u001b[0m         \u001b[0;32melif\u001b[0m \u001b[0;32mnot\u001b[0m \u001b[0misinstance\u001b[0m\u001b[0;34m(\u001b[0m\u001b[0mname\u001b[0m\u001b[0;34m,\u001b[0m \u001b[0mtorch\u001b[0m\u001b[0;34m.\u001b[0m\u001b[0m_six\u001b[0m\u001b[0;34m.\u001b[0m\u001b[0mstring_classes\u001b[0m\u001b[0;34m)\u001b[0m\u001b[0;34m:\u001b[0m\u001b[0;34m\u001b[0m\u001b[0;34m\u001b[0m\u001b[0m\n\u001b[1;32m    380\u001b[0m             raise TypeError(\"module name should be a string. Got {}\".format(\n",
            "\u001b[0;31mTypeError\u001b[0m: torch.DoubleTensor is not a Module subclass"
          ]
        }
      ]
    },
    {
      "cell_type": "code",
      "source": [
        "class Net(Module):   \n",
        "    def __init__(self):\n",
        "        super(Net, self).__init__()\n",
        "\n",
        "        model = nn.Sequential(nn.init.xavier_uniform_(train_data.data, gain=1.0),nn.Conv2d(1,12,8),nn.ReLU(),nn.Conv2d(12,12,4),nn.ReLU(),\n",
        "                      nn.Linear(12,30),nn.ReLU(),nn.Linear(30,10))\n"
      ],
      "metadata": {
        "id": "iJzSXFs5yYit"
      },
      "id": "iJzSXFs5yYit",
      "execution_count": null,
      "outputs": []
    },
    {
      "cell_type": "code",
      "source": [
        "model = Net()\n",
        "# defining the optimizer\n",
        "optimizer = Adam(model.parameters(), lr=0.0001)\n",
        "# defining the loss function\n",
        "criterion = CrossEntropyLoss()\n",
        "# checking if GPU is available\n",
        "if torch.cuda.is_available():\n",
        "    model = model.cuda()\n",
        "    criterion = criterion.cuda()\n",
        "print(model)"
      ],
      "metadata": {
        "id": "WYfy_bm-zsbX"
      },
      "id": "WYfy_bm-zsbX",
      "execution_count": null,
      "outputs": []
    }
  ],
  "metadata": {
    "kernelspec": {
      "display_name": "Python 3 (ipykernel)",
      "language": "python",
      "name": "python3"
    },
    "language_info": {
      "codemirror_mode": {
        "name": "ipython",
        "version": 3
      },
      "file_extension": ".py",
      "mimetype": "text/x-python",
      "name": "python",
      "nbconvert_exporter": "python",
      "pygments_lexer": "ipython3",
      "version": "3.9.7"
    },
    "colab": {
      "name": "Prgm1.ipynb",
      "provenance": [],
      "toc_visible": true,
      "include_colab_link": true
    },
    "accelerator": "GPU"
  },
  "nbformat": 4,
  "nbformat_minor": 5
}